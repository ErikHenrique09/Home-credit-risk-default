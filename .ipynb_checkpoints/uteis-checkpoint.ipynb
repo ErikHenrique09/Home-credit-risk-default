{
 "cells": [
  {
   "cell_type": "code",
   "execution_count": null,
   "id": "c9c09031",
   "metadata": {},
   "outputs": [],
   "source": [
    "# -- Ver um  jeito de transformar isso em biblioteca sla --  #\n",
    "\n",
    "#Efetua a transformação das categoricas para inteiro, classificando as no dataset\n",
    "\n",
    "def transform(dicionario, dataset):\n",
    "    for key, value in dicionario.items():\n",
    "        for dickey, valuekey in value.items():  \n",
    "            dataset[key] = dataset[key].replace(dickey, value[dickey])\n",
    "\n",
    "#Pega todas as categoricas e as classifica numericamente\n",
    "def class_categorical(dataset, op=0):\n",
    "    dic_transforms = {}\n",
    "    cols = dataset.columns\n",
    "    \n",
    "    for col in cols:\n",
    "        if dataset[col].dtypes == object:\n",
    "            values_dic = list(home_credit[col].unique())\n",
    "            dic = {}\n",
    "            for index, value in enumerate(values_dic):\n",
    "                dic[value] = index\n",
    "            \n",
    "            dic_transforms[col] = dic\n",
    "        \n",
    "        if op:\n",
    "            if dataset[col].dtypes == float:\n",
    "                dataset[col].replace(np.nan, dataset[col].mean(), inplace=True)\n",
    "            \n",
    "    return dic_transforms"
   ]
  }
 ],
 "metadata": {
  "kernelspec": {
   "display_name": "Python 3 (ipykernel)",
   "language": "python",
   "name": "python3"
  },
  "language_info": {
   "codemirror_mode": {
    "name": "ipython",
    "version": 3
   },
   "file_extension": ".py",
   "mimetype": "text/x-python",
   "name": "python",
   "nbconvert_exporter": "python",
   "pygments_lexer": "ipython3",
   "version": "3.9.12"
  }
 },
 "nbformat": 4,
 "nbformat_minor": 5
}
