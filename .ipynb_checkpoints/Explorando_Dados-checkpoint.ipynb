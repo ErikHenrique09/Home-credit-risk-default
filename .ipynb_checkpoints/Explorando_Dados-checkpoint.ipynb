{
 "cells": [
  {
   "cell_type": "markdown",
   "metadata": {
    "id": "8SrQh3XuLp0c"
   },
   "source": [
    "# Configurando o Kernel Spark"
   ]
  },
  {
   "cell_type": "code",
   "execution_count": 1,
   "metadata": {
    "id": "qWId1WorJeOr"
   },
   "outputs": [
    {
     "name": "stderr",
     "output_type": "stream",
     "text": [
      "O sistema nÆo pode encontrar o caminho especificado.\n",
      "'wget' nÆo ‚ reconhecido como um comando interno\n",
      "ou externo, um programa oper vel ou um arquivo em lotes.\n",
      "tar: Error opening archive: Failed to open 'spark-2.4.4-bin-hadoop2.7.tgz'\n"
     ]
    }
   ],
   "source": [
    "# instalar as dependências\n",
    "!apt-get install openjdk-8-jdk-headless -qq > /dev/null\n",
    "!wget -q\n",
    "!tar xf spark-2.4.4-bin-hadoop2.7.tgz\n",
    "!pip install -q findspark"
   ]
  },
  {
   "cell_type": "code",
   "execution_count": null,
   "metadata": {
    "id": "9L-YyPJZL5Jf"
   },
   "outputs": [],
   "source": [
    "# configurar as variáveis de ambiente\n",
    "import os\n",
    "os.environ[\"JAVA_HOME\"] = \"/usr/lib/jvm/java-8-openjdk-amd64\"\n",
    "os.environ[\"SPARK_HOME\"] = \"/content/spark-2.4.4-bin-hadoop2.7\"\n",
    " \n",
    "# tornar o pyspark \"importável\"\n",
    "import findspark\n",
    "findspark.init('spark-2.4.4-bin-hadoop2.7')\n"
   ]
  },
  {
   "cell_type": "code",
   "execution_count": null,
   "metadata": {
    "id": "ssVEngJrMUxx"
   },
   "outputs": [],
   "source": [
    "from pyspark.sql import SparkSession\n",
    " \n",
    " #inicializando uma sessão Spark\n",
    "spark = SparkSession.builder\\\n",
    "        .master(\"local\")\\\n",
    "        .appName(\"Colab\")\\\n",
    "        .config('spark.ui.port', '4050')\\\n",
    "        .getOrCreate()"
   ]
  },
  {
   "cell_type": "markdown",
   "metadata": {
    "id": "AspnIJBoMmyt"
   },
   "source": [
    "# Explorando os Dados"
   ]
  },
  {
   "cell_type": "markdown",
   "metadata": {
    "id": "eLFy1tXuMuxr"
   },
   "source": [
    "### Lendo publico de modelagem (tabela principal)"
   ]
  },
  {
   "cell_type": "code",
   "execution_count": 1,
   "metadata": {
    "colab": {
     "base_uri": "https://localhost:8080/",
     "height": 235
    },
    "id": "Ad23gxfBMrC2",
    "outputId": "5a29755f-04f8-40fe-d85b-fea18d514cec"
   },
   "outputs": [
    {
     "ename": "NameError",
     "evalue": "ignored",
     "output_type": "error",
     "traceback": [
      "\u001b[0;31m---------------------------------------------------------------------------\u001b[0m",
      "\u001b[0;31mNameError\u001b[0m                                 Traceback (most recent call last)",
      "\u001b[0;32m<ipython-input-1-47020542e64c>\u001b[0m in \u001b[0;36m<module>\u001b[0;34m\u001b[0m\n\u001b[0;32m----> 1\u001b[0;31m \u001b[0mapp_train\u001b[0m \u001b[0;34m=\u001b[0m \u001b[0mspark\u001b[0m\u001b[0;34m.\u001b[0m\u001b[0mread\u001b[0m\u001b[0;34m.\u001b[0m\u001b[0mcsv\u001b[0m\u001b[0;34m(\u001b[0m\u001b[0;34m\"/content/drive/MyDrive/LAMIA/projeto_final/dados/InputData/application_train.csv\"\u001b[0m\u001b[0;34m,\u001b[0m \u001b[0minferSchema\u001b[0m\u001b[0;34m=\u001b[0m\u001b[0;32mTrue\u001b[0m\u001b[0;34m,\u001b[0m \u001b[0mheader\u001b[0m\u001b[0;34m=\u001b[0m\u001b[0;32mTrue\u001b[0m\u001b[0;34m)\u001b[0m\u001b[0;34m\u001b[0m\u001b[0;34m\u001b[0m\u001b[0m\n\u001b[0m\u001b[1;32m      2\u001b[0m \u001b[0mapp_test\u001b[0m \u001b[0;34m=\u001b[0m \u001b[0mspark\u001b[0m\u001b[0;34m.\u001b[0m\u001b[0mread\u001b[0m\u001b[0;34m.\u001b[0m\u001b[0mcsv\u001b[0m\u001b[0;34m(\u001b[0m\u001b[0;34m\"/content/drive/MyDrive/LAMIA/projeto_final/dados/InputData/application_test.csv\"\u001b[0m\u001b[0;34m,\u001b[0m \u001b[0minferSchema\u001b[0m\u001b[0;34m=\u001b[0m\u001b[0;32mTrue\u001b[0m\u001b[0;34m,\u001b[0m \u001b[0mheader\u001b[0m\u001b[0;34m=\u001b[0m\u001b[0;32mTrue\u001b[0m\u001b[0;34m)\u001b[0m\u001b[0;34m\u001b[0m\u001b[0;34m\u001b[0m\u001b[0m\n\u001b[1;32m      3\u001b[0m \u001b[0;34m\u001b[0m\u001b[0m\n\u001b[1;32m      4\u001b[0m \u001b[0mapp_train\u001b[0m\u001b[0;34m.\u001b[0m\u001b[0mregisterTempTable\u001b[0m\u001b[0;34m(\u001b[0m\u001b[0;34m'app_train'\u001b[0m\u001b[0;34m)\u001b[0m\u001b[0;34m\u001b[0m\u001b[0;34m\u001b[0m\u001b[0m\n\u001b[1;32m      5\u001b[0m \u001b[0;34m\u001b[0m\u001b[0m\n",
      "\u001b[0;31mNameError\u001b[0m: name 'spark' is not defined"
     ]
    }
   ],
   "source": [
    "app_train = spark.read.csv(\"/content/drive/MyDrive/LAMIA/projeto_final/dados/InputData/application_train.csv\", inferSchema=True, header=True)\n",
    "app_test = spark.read.csv(\"/content/drive/MyDrive/LAMIA/projeto_final/dados/InputData/application_test.csv\", inferSchema=True, header=True)\n",
    "\n",
    "app_train.registerTempTable('app_train')\n",
    " \n",
    "app_train.count()"
   ]
  },
  {
   "cell_type": "markdown",
   "metadata": {
    "id": "nGYj1M46Yt9r"
   },
   "source": [
    "# Lendo tabela transacional Bureau"
   ]
  },
  {
   "cell_type": "code",
   "execution_count": null,
   "metadata": {
    "colab": {
     "base_uri": "https://localhost:8080/"
    },
    "id": "g2p45XKtY5cg",
    "outputId": "7c661def-ca70-43b5-fb15-ae9f5d555c3c"
   },
   "outputs": [
    {
     "data": {
      "text/plain": [
       "1716428"
      ]
     },
     "execution_count": 5,
     "metadata": {},
     "output_type": "execute_result"
    }
   ],
   "source": [
    "bureau = spark.read.csv(\"/content/drive/MyDrive/LAMIA/projeto_final/dados/InputData/bureau.csv\", inferSchema=True, header=True)\n",
    " \n",
    "bureau.registerTempTable('bureau')\n",
    " \n",
    "bureau.count()"
   ]
  },
  {
   "cell_type": "markdown",
   "metadata": {
    "id": "Tb3ZeA-qxbJN"
   },
   "source": [
    "Observe a quantidade de registros, estes serão transaformados em variaveis explicativas da granulidade da nossa tabela principal"
   ]
  },
  {
   "cell_type": "markdown",
   "metadata": {
    "id": "TIQUeFD8ZPGu"
   },
   "source": [
    "## Verificando variaveis da tabela principal"
   ]
  },
  {
   "cell_type": "code",
   "execution_count": null,
   "metadata": {
    "colab": {
     "base_uri": "https://localhost:8080/"
    },
    "id": "E7Lk2YXiZSJl",
    "outputId": "face262b-cd40-41a8-8fa6-fa9bb6d4a331"
   },
   "outputs": [
    {
     "name": "stdout",
     "output_type": "stream",
     "text": [
      "root\n",
      " |-- SK_ID_CURR: integer (nullable = true)\n",
      " |-- TARGET: integer (nullable = true)\n",
      " |-- NAME_CONTRACT_TYPE: string (nullable = true)\n",
      " |-- CODE_GENDER: string (nullable = true)\n",
      " |-- FLAG_OWN_CAR: string (nullable = true)\n",
      " |-- FLAG_OWN_REALTY: string (nullable = true)\n",
      " |-- CNT_CHILDREN: integer (nullable = true)\n",
      " |-- AMT_INCOME_TOTAL: double (nullable = true)\n",
      " |-- AMT_CREDIT: double (nullable = true)\n",
      " |-- AMT_ANNUITY: double (nullable = true)\n",
      " |-- AMT_GOODS_PRICE: double (nullable = true)\n",
      " |-- NAME_TYPE_SUITE: string (nullable = true)\n",
      " |-- NAME_INCOME_TYPE: string (nullable = true)\n",
      " |-- NAME_EDUCATION_TYPE: string (nullable = true)\n",
      " |-- NAME_FAMILY_STATUS: string (nullable = true)\n",
      " |-- NAME_HOUSING_TYPE: string (nullable = true)\n",
      " |-- REGION_POPULATION_RELATIVE: double (nullable = true)\n",
      " |-- DAYS_BIRTH: integer (nullable = true)\n",
      " |-- DAYS_EMPLOYED: integer (nullable = true)\n",
      " |-- DAYS_REGISTRATION: double (nullable = true)\n",
      " |-- DAYS_ID_PUBLISH: integer (nullable = true)\n",
      " |-- OWN_CAR_AGE: double (nullable = true)\n",
      " |-- FLAG_MOBIL: integer (nullable = true)\n",
      " |-- FLAG_EMP_PHONE: integer (nullable = true)\n",
      " |-- FLAG_WORK_PHONE: integer (nullable = true)\n",
      " |-- FLAG_CONT_MOBILE: integer (nullable = true)\n",
      " |-- FLAG_PHONE: integer (nullable = true)\n",
      " |-- FLAG_EMAIL: integer (nullable = true)\n",
      " |-- OCCUPATION_TYPE: string (nullable = true)\n",
      " |-- CNT_FAM_MEMBERS: double (nullable = true)\n",
      " |-- REGION_RATING_CLIENT: integer (nullable = true)\n",
      " |-- REGION_RATING_CLIENT_W_CITY: integer (nullable = true)\n",
      " |-- WEEKDAY_APPR_PROCESS_START: string (nullable = true)\n",
      " |-- HOUR_APPR_PROCESS_START: integer (nullable = true)\n",
      " |-- REG_REGION_NOT_LIVE_REGION: integer (nullable = true)\n",
      " |-- REG_REGION_NOT_WORK_REGION: integer (nullable = true)\n",
      " |-- LIVE_REGION_NOT_WORK_REGION: integer (nullable = true)\n",
      " |-- REG_CITY_NOT_LIVE_CITY: integer (nullable = true)\n",
      " |-- REG_CITY_NOT_WORK_CITY: integer (nullable = true)\n",
      " |-- LIVE_CITY_NOT_WORK_CITY: integer (nullable = true)\n",
      " |-- ORGANIZATION_TYPE: string (nullable = true)\n",
      " |-- EXT_SOURCE_1: double (nullable = true)\n",
      " |-- EXT_SOURCE_2: double (nullable = true)\n",
      " |-- EXT_SOURCE_3: double (nullable = true)\n",
      " |-- APARTMENTS_AVG: double (nullable = true)\n",
      " |-- BASEMENTAREA_AVG: double (nullable = true)\n",
      " |-- YEARS_BEGINEXPLUATATION_AVG: double (nullable = true)\n",
      " |-- YEARS_BUILD_AVG: double (nullable = true)\n",
      " |-- COMMONAREA_AVG: double (nullable = true)\n",
      " |-- ELEVATORS_AVG: double (nullable = true)\n",
      " |-- ENTRANCES_AVG: double (nullable = true)\n",
      " |-- FLOORSMAX_AVG: double (nullable = true)\n",
      " |-- FLOORSMIN_AVG: double (nullable = true)\n",
      " |-- LANDAREA_AVG: double (nullable = true)\n",
      " |-- LIVINGAPARTMENTS_AVG: double (nullable = true)\n",
      " |-- LIVINGAREA_AVG: double (nullable = true)\n",
      " |-- NONLIVINGAPARTMENTS_AVG: double (nullable = true)\n",
      " |-- NONLIVINGAREA_AVG: double (nullable = true)\n",
      " |-- APARTMENTS_MODE: double (nullable = true)\n",
      " |-- BASEMENTAREA_MODE: double (nullable = true)\n",
      " |-- YEARS_BEGINEXPLUATATION_MODE: double (nullable = true)\n",
      " |-- YEARS_BUILD_MODE: double (nullable = true)\n",
      " |-- COMMONAREA_MODE: double (nullable = true)\n",
      " |-- ELEVATORS_MODE: double (nullable = true)\n",
      " |-- ENTRANCES_MODE: double (nullable = true)\n",
      " |-- FLOORSMAX_MODE: double (nullable = true)\n",
      " |-- FLOORSMIN_MODE: double (nullable = true)\n",
      " |-- LANDAREA_MODE: double (nullable = true)\n",
      " |-- LIVINGAPARTMENTS_MODE: double (nullable = true)\n",
      " |-- LIVINGAREA_MODE: double (nullable = true)\n",
      " |-- NONLIVINGAPARTMENTS_MODE: double (nullable = true)\n",
      " |-- NONLIVINGAREA_MODE: double (nullable = true)\n",
      " |-- APARTMENTS_MEDI: double (nullable = true)\n",
      " |-- BASEMENTAREA_MEDI: double (nullable = true)\n",
      " |-- YEARS_BEGINEXPLUATATION_MEDI: double (nullable = true)\n",
      " |-- YEARS_BUILD_MEDI: double (nullable = true)\n",
      " |-- COMMONAREA_MEDI: double (nullable = true)\n",
      " |-- ELEVATORS_MEDI: double (nullable = true)\n",
      " |-- ENTRANCES_MEDI: double (nullable = true)\n",
      " |-- FLOORSMAX_MEDI: double (nullable = true)\n",
      " |-- FLOORSMIN_MEDI: double (nullable = true)\n",
      " |-- LANDAREA_MEDI: double (nullable = true)\n",
      " |-- LIVINGAPARTMENTS_MEDI: double (nullable = true)\n",
      " |-- LIVINGAREA_MEDI: double (nullable = true)\n",
      " |-- NONLIVINGAPARTMENTS_MEDI: double (nullable = true)\n",
      " |-- NONLIVINGAREA_MEDI: double (nullable = true)\n",
      " |-- FONDKAPREMONT_MODE: string (nullable = true)\n",
      " |-- HOUSETYPE_MODE: string (nullable = true)\n",
      " |-- TOTALAREA_MODE: double (nullable = true)\n",
      " |-- WALLSMATERIAL_MODE: string (nullable = true)\n",
      " |-- EMERGENCYSTATE_MODE: string (nullable = true)\n",
      " |-- OBS_30_CNT_SOCIAL_CIRCLE: double (nullable = true)\n",
      " |-- DEF_30_CNT_SOCIAL_CIRCLE: double (nullable = true)\n",
      " |-- OBS_60_CNT_SOCIAL_CIRCLE: double (nullable = true)\n",
      " |-- DEF_60_CNT_SOCIAL_CIRCLE: double (nullable = true)\n",
      " |-- DAYS_LAST_PHONE_CHANGE: double (nullable = true)\n",
      " |-- FLAG_DOCUMENT_2: integer (nullable = true)\n",
      " |-- FLAG_DOCUMENT_3: integer (nullable = true)\n",
      " |-- FLAG_DOCUMENT_4: integer (nullable = true)\n",
      " |-- FLAG_DOCUMENT_5: integer (nullable = true)\n",
      " |-- FLAG_DOCUMENT_6: integer (nullable = true)\n",
      " |-- FLAG_DOCUMENT_7: integer (nullable = true)\n",
      " |-- FLAG_DOCUMENT_8: integer (nullable = true)\n",
      " |-- FLAG_DOCUMENT_9: integer (nullable = true)\n",
      " |-- FLAG_DOCUMENT_10: integer (nullable = true)\n",
      " |-- FLAG_DOCUMENT_11: integer (nullable = true)\n",
      " |-- FLAG_DOCUMENT_12: integer (nullable = true)\n",
      " |-- FLAG_DOCUMENT_13: integer (nullable = true)\n",
      " |-- FLAG_DOCUMENT_14: integer (nullable = true)\n",
      " |-- FLAG_DOCUMENT_15: integer (nullable = true)\n",
      " |-- FLAG_DOCUMENT_16: integer (nullable = true)\n",
      " |-- FLAG_DOCUMENT_17: integer (nullable = true)\n",
      " |-- FLAG_DOCUMENT_18: integer (nullable = true)\n",
      " |-- FLAG_DOCUMENT_19: integer (nullable = true)\n",
      " |-- FLAG_DOCUMENT_20: integer (nullable = true)\n",
      " |-- FLAG_DOCUMENT_21: integer (nullable = true)\n",
      " |-- AMT_REQ_CREDIT_BUREAU_HOUR: double (nullable = true)\n",
      " |-- AMT_REQ_CREDIT_BUREAU_DAY: double (nullable = true)\n",
      " |-- AMT_REQ_CREDIT_BUREAU_WEEK: double (nullable = true)\n",
      " |-- AMT_REQ_CREDIT_BUREAU_MON: double (nullable = true)\n",
      " |-- AMT_REQ_CREDIT_BUREAU_QRT: double (nullable = true)\n",
      " |-- AMT_REQ_CREDIT_BUREAU_YEAR: double (nullable = true)\n",
      "\n"
     ]
    }
   ],
   "source": [
    "app_train.printSchema()"
   ]
  },
  {
   "cell_type": "markdown",
   "metadata": {
    "id": "QX6TqIStaLMd"
   },
   "source": [
    "## Listando variaveis do tipo string pois provavelmente carregam informações de negocio"
   ]
  },
  {
   "cell_type": "code",
   "execution_count": null,
   "metadata": {
    "colab": {
     "base_uri": "https://localhost:8080/"
    },
    "id": "P1i1fyCkZd0S",
    "outputId": "d51d90fc-5da9-4713-ccd6-779bccbb144b"
   },
   "outputs": [
    {
     "data": {
      "text/plain": [
       "['NAME_CONTRACT_TYPE',\n",
       " 'CODE_GENDER',\n",
       " 'FLAG_OWN_CAR',\n",
       " 'FLAG_OWN_REALTY',\n",
       " 'NAME_TYPE_SUITE',\n",
       " 'NAME_INCOME_TYPE',\n",
       " 'NAME_EDUCATION_TYPE',\n",
       " 'NAME_FAMILY_STATUS',\n",
       " 'NAME_HOUSING_TYPE',\n",
       " 'OCCUPATION_TYPE',\n",
       " 'WEEKDAY_APPR_PROCESS_START',\n",
       " 'ORGANIZATION_TYPE',\n",
       " 'FONDKAPREMONT_MODE',\n",
       " 'HOUSETYPE_MODE',\n",
       " 'WALLSMATERIAL_MODE',\n",
       " 'EMERGENCYSTATE_MODE']"
      ]
     },
     "execution_count": 7,
     "metadata": {},
     "output_type": "execute_result"
    }
   ],
   "source": [
    " string_list = [item[0] for item in app_train.dtypes if item[1].startswith('string')]\n",
    " string_list\n"
   ]
  },
  {
   "cell_type": "markdown",
   "metadata": {
    "id": "3uvvUJ6oaziX"
   },
   "source": [
    "## Calculando a volumetria e taxa de evento parqa cada dominio de cada uma das variaveis tipo string\n",
    "\n",
    "**TARGET**: Diz respeito a taxa de inadimplencia de determinada feature "
   ]
  },
  {
   "cell_type": "markdown",
   "metadata": {
    "id": "FX8Dd5Waa-ZA"
   },
   "source": [
    "# 1) NAME_CONTRACT_TYPE\n",
    "Identificação se o empréstimo é à vista ou rotativo\n",
    "\n",
    "**Cash loans**: Emprestimos em dinheiro   \n",
    "**Revolving loans**: Emprestimos Rotativo"
   ]
  },
  {
   "cell_type": "code",
   "execution_count": null,
   "metadata": {
    "colab": {
     "base_uri": "https://localhost:8080/"
    },
    "id": "GYkBHjTcZt7I",
    "outputId": "f70b923e-635c-446f-e906-a48b85a6ae61"
   },
   "outputs": [
    {
     "name": "stdout",
     "output_type": "stream",
     "text": [
      "+------------------+----------+------+\n",
      "|NAME_CONTRACT_TYPE|AVG_TARGET|Volume|\n",
      "+------------------+----------+------+\n",
      "|        Cash loans|      8.35|278232|\n",
      "|   Revolving loans|      5.48| 29279|\n",
      "+------------------+----------+------+\n",
      "\n"
     ]
    }
   ],
   "source": [
    "spark.sql(\"\"\"\n",
    "            select \n",
    "              NAME_CONTRACT_TYPE,\n",
    "              round(100*avg(TARGET),2) as AVG_TARGET,\n",
    "              count(*) as Volume\n",
    " \n",
    "            from \n",
    "              app_train\n",
    "            group by \n",
    "              NAME_CONTRACT_TYPE\n",
    "            order by \n",
    "              AVG_TARGET desc\n",
    "\"\"\").show()"
   ]
  },
  {
   "cell_type": "markdown",
   "metadata": {
    "id": "cf0JtDQPdgfy"
   },
   "source": [
    "Podemos identificar que quem faz emprestimos do tipo rotativo possuem menor taxa de inadimplencia que o em dinheiro, mas tambem o volume para essas pessoas e muito menor"
   ]
  },
  {
   "cell_type": "markdown",
   "metadata": {
    "id": "2D3kNiMhhEtq"
   },
   "source": [
    "# 2) CODE_GENDER\n",
    "Sexo do cliente   \n",
    "M: Masculino  \n",
    "F: Feminino"
   ]
  },
  {
   "cell_type": "code",
   "execution_count": null,
   "metadata": {
    "colab": {
     "base_uri": "https://localhost:8080/"
    },
    "id": "gdGXGQgvhEmn",
    "outputId": "89494403-2f8b-4a75-d9a2-84c2c0e0ca49"
   },
   "outputs": [
    {
     "name": "stdout",
     "output_type": "stream",
     "text": [
      "+-----------+----------+------+\n",
      "|CODE_GENDER|AVG_TARGET|Volume|\n",
      "+-----------+----------+------+\n",
      "|          M|     10.14|105059|\n",
      "|          F|       7.0|202448|\n",
      "|        XNA|       0.0|     4|\n",
      "+-----------+----------+------+\n",
      "\n"
     ]
    }
   ],
   "source": [
    "spark.sql(\"\"\"\n",
    "           select \n",
    "              CODE_GENDER,\n",
    "              round(100*avg(TARGET),2) as AVG_TARGET,\n",
    "              count(*) as Volume\n",
    " \n",
    "            from \n",
    "              app_train\n",
    "            group by \n",
    "              CODE_GENDER\n",
    "            order by \n",
    "              AVG_TARGET desc\n",
    "\"\"\").show()"
   ]
  },
  {
   "cell_type": "markdown",
   "metadata": {
    "id": "a5euyTH4hYIZ"
   },
   "source": [
    "- Apesar de grande parte do sexo masculino realizar menos emprestimos, a taxa de inadimplencia supera a do sexo feminino\n",
    "- mesmo que o sexo feminino tenha maior volume de aprovação"
   ]
  },
  {
   "cell_type": "markdown",
   "metadata": {
    "id": "OV4W8fzlhDz7"
   },
   "source": [
    "# 3) FLAG_OWN_CAR\n",
    "Se o cliente possui um carro   \n",
    "\n",
    "N: não  \n",
    "Y: sim"
   ]
  },
  {
   "cell_type": "code",
   "execution_count": null,
   "metadata": {
    "colab": {
     "base_uri": "https://localhost:8080/"
    },
    "id": "TamH106nhDXM",
    "outputId": "c473e74a-9650-4197-eb72-5822f27e520f"
   },
   "outputs": [
    {
     "name": "stdout",
     "output_type": "stream",
     "text": [
      "+------------+----------+------+\n",
      "|FLAG_OWN_CAR|AVG_TARGET|Volume|\n",
      "+------------+----------+------+\n",
      "|           N|       8.5|202924|\n",
      "|           Y|      7.24|104587|\n",
      "+------------+----------+------+\n",
      "\n"
     ]
    }
   ],
   "source": [
    "spark.sql(\"\"\"\n",
    "            select \n",
    "              FLAG_OWN_CAR,\n",
    "              round(100*avg(TARGET),2) as AVG_TARGET,\n",
    "              count(*) as Volume\n",
    " \n",
    "            from \n",
    "              app_train\n",
    "            group by \n",
    "              FLAG_OWN_CAR\n",
    "            order by \n",
    "              AVG_TARGET desc\n",
    "\"\"\").show()"
   ]
  },
  {
   "cell_type": "markdown",
   "metadata": {
    "id": "ejO5mnTlhZOv"
   },
   "source": [
    "- pessoal que não tem carro tem um maior volume, porem uma taxa maior de inadimplencia, sera que o emprestimo era pra comprar um carro?"
   ]
  },
  {
   "cell_type": "markdown",
   "metadata": {
    "id": "xUiWqhL5hDMg"
   },
   "source": [
    "# 4) FLAG_OWN_REALTY\n",
    "Se o cliente possui uma casa ou apartamento   \n",
    "\n",
    "N: não   \n",
    "Y: sim"
   ]
  },
  {
   "cell_type": "code",
   "execution_count": null,
   "metadata": {
    "colab": {
     "base_uri": "https://localhost:8080/"
    },
    "id": "Ysblaj1whDFQ",
    "outputId": "e874c1f2-43a5-4787-c729-c59cb5ddca80"
   },
   "outputs": [
    {
     "name": "stdout",
     "output_type": "stream",
     "text": [
      "+---------------+----------+------+\n",
      "|FLAG_OWN_REALTY|AVG_TARGET|Volume|\n",
      "+---------------+----------+------+\n",
      "|              N|      8.32| 94199|\n",
      "|              Y|      7.96|213312|\n",
      "+---------------+----------+------+\n",
      "\n"
     ]
    }
   ],
   "source": [
    "spark.sql(\"\"\"\n",
    "             select \n",
    "              FLAG_OWN_REALTY,\n",
    "              round(100*avg(TARGET),2) as AVG_TARGET,\n",
    "              count(*) as Volume\n",
    " \n",
    "            from \n",
    "              app_train\n",
    "            group by \n",
    "              FLAG_OWN_REALTY\n",
    "            order by \n",
    "              AVG_TARGET desc\n",
    "\"\"\").show()"
   ]
  },
  {
   "cell_type": "markdown",
   "metadata": {
    "id": "AS8iyJZUhZ6z"
   },
   "source": [
    "- Novamente os clientes que não possuem o bem, com uma maior taxa de inadimplencia.\n",
    "- Tendencia para o emprestimo ser aprovado para pessoas que tem residencia propria"
   ]
  },
  {
   "cell_type": "markdown",
   "metadata": {
    "id": "0ycS5vB6hC8f"
   },
   "source": [
    "# 5) NAME_TYPE_SUITE\n",
    "Quem estava acompanhando o cliente quando ele estava solicitando o empréstimo  "
   ]
  },
  {
   "cell_type": "code",
   "execution_count": null,
   "metadata": {
    "colab": {
     "base_uri": "https://localhost:8080/"
    },
    "id": "pr33gaMlhC0h",
    "outputId": "7bf245ac-5997-4651-faeb-4c900e96cf4b"
   },
   "outputs": [
    {
     "name": "stdout",
     "output_type": "stream",
     "text": [
      "+---------------+----------+------+\n",
      "|NAME_TYPE_SUITE|AVG_TARGET|Volume|\n",
      "+---------------+----------+------+\n",
      "|        Other_B|      9.83|  1770|\n",
      "|        Other_A|      8.78|   866|\n",
      "|Group of people|      8.49|   271|\n",
      "|  Unaccompanied|      8.18|248526|\n",
      "|Spouse, partner|      7.87| 11370|\n",
      "|         Family|      7.49| 40149|\n",
      "|       Children|      7.38|  3267|\n",
      "|           null|      5.42|  1292|\n",
      "+---------------+----------+------+\n",
      "\n"
     ]
    }
   ],
   "source": [
    "spark.sql(\"\"\"\n",
    "           select \n",
    "              NAME_TYPE_SUITE,\n",
    "              round(100*avg(TARGET),2) as AVG_TARGET,\n",
    "              count(*) as Volume\n",
    " \n",
    "            from \n",
    "              app_train\n",
    "            group by \n",
    "              NAME_TYPE_SUITE\n",
    "            order by \n",
    "              AVG_TARGET desc\n",
    "\"\"\").show()"
   ]
  },
  {
   "cell_type": "markdown",
   "metadata": {
    "id": "Vne554NShauW"
   },
   "source": [
    "- Aprovação massiva em clientes que foram desacompanhados, talvez de uma segurança ao banco ver que a pessoa parece ser idependente.  \n"
   ]
  },
  {
   "cell_type": "markdown",
   "metadata": {
    "id": "I87Ne_LUhCot"
   },
   "source": [
    "# 6) NAME_INCOME_TYPE\n",
    "Tipo de renda dos clientes (empresário, trabalhador, licença maternidade)"
   ]
  },
  {
   "cell_type": "code",
   "execution_count": null,
   "metadata": {
    "colab": {
     "base_uri": "https://localhost:8080/"
    },
    "id": "meiauO0yhCY7",
    "outputId": "664f8cb6-f4fd-4187-fc5a-8344d8e9171d"
   },
   "outputs": [
    {
     "name": "stdout",
     "output_type": "stream",
     "text": [
      "+--------------------+----------+------+\n",
      "|    NAME_INCOME_TYPE|AVG_TARGET|Volume|\n",
      "+--------------------+----------+------+\n",
      "|     Maternity leave|      40.0|     5|\n",
      "|          Unemployed|     36.36|    22|\n",
      "|             Working|      9.59|158774|\n",
      "|Commercial associate|      7.48| 71617|\n",
      "|       State servant|      5.75| 21703|\n",
      "|           Pensioner|      5.39| 55362|\n",
      "|             Student|       0.0|    18|\n",
      "|         Businessman|       0.0|    10|\n",
      "+--------------------+----------+------+\n",
      "\n"
     ]
    }
   ],
   "source": [
    "spark.sql(\"\"\"\n",
    "            select \n",
    "              NAME_INCOME_TYPE,\n",
    "              round(100*avg(TARGET),2) as AVG_TARGET,\n",
    "              count(*) as Volume\n",
    " \n",
    "            from \n",
    "              app_train\n",
    "            group by \n",
    "              NAME_INCOME_TYPE\n",
    "            order by \n",
    "              AVG_TARGET desc\n",
    "\"\"\").show()"
   ]
  },
  {
   "cell_type": "markdown",
   "metadata": {
    "id": "JNblQKSxiH-8"
   },
   "source": [
    "- Baixo volume para rendas de licença maternidade, inadimplencia  bem alta, pela quantidade de imprestimos faz sentido\n",
    "\n",
    "- Maiores volumes para pensionistas, trabalhadores e servidores do estado, estariam essas pessoas ganhando mal? \n",
    "- o caso dos aposentados/pensionistas sabemos que são meio que alvos para agencias de emprestimos.\n",
    "\n",
    "- Mas o caso do trabnalhador estar solicitando varios emprestimos e preocupante"
   ]
  },
  {
   "cell_type": "markdown",
   "metadata": {
    "id": "8lPOXwWrg8Rz"
   },
   "source": [
    "# 7) NAME_EDUCATION_TYPE\n",
    "Nível de educação mais alto que o cliente alcançou"
   ]
  },
  {
   "cell_type": "code",
   "execution_count": null,
   "metadata": {
    "colab": {
     "base_uri": "https://localhost:8080/"
    },
    "id": "qGpR5PTIg8JB",
    "outputId": "fc3592a7-984b-492e-e1db-91264d5e74d5"
   },
   "outputs": [
    {
     "name": "stdout",
     "output_type": "stream",
     "text": [
      "+--------------------+----------+------+\n",
      "| NAME_EDUCATION_TYPE|AVG_TARGET|Volume|\n",
      "+--------------------+----------+------+\n",
      "|     Lower secondary|     10.93|  3816|\n",
      "|Secondary / secon...|      8.94|218391|\n",
      "|   Incomplete higher|      8.48| 10277|\n",
      "|    Higher education|      5.36| 74863|\n",
      "|     Academic degree|      1.83|   164|\n",
      "+--------------------+----------+------+\n",
      "\n"
     ]
    }
   ],
   "source": [
    "spark.sql(\"\"\"\n",
    "           select \n",
    "              NAME_EDUCATION_TYPE,\n",
    "              round(100*avg(TARGET),2) as AVG_TARGET,\n",
    "              count(*) as Volume\n",
    " \n",
    "            from \n",
    "              app_train\n",
    "            group by \n",
    "              NAME_EDUCATION_TYPE\n",
    "            order by \n",
    "              AVG_TARGET desc\n",
    "\"\"\").show()"
   ]
  },
  {
   "cell_type": "markdown",
   "metadata": {
    "id": "u5DZqFIbiJfU"
   },
   "source": [
    "- Pessoas que concluiram ate o segundo do ensino medio tem uma altissima tendencia a realizar emprestimos, ja os que concluiram o ensino academico tem o menor volume, seria algum tipo de insight sobre status social de pessoas que chegaram ate o ensino academico\n",
    "\n",
    "- Ou poderia ser que o academico e so a escola normal e essas pessoas não necessitam ou não buscam credito pois não objetivam algo "
   ]
  },
  {
   "cell_type": "markdown",
   "metadata": {
    "id": "uZ6RDBysg8Ch"
   },
   "source": [
    "# 8) NAME_FAMILY_STATUS\n",
    "Situação familiar do cliente"
   ]
  },
  {
   "cell_type": "code",
   "execution_count": null,
   "metadata": {
    "colab": {
     "base_uri": "https://localhost:8080/"
    },
    "id": "MM-e8pLIg76_",
    "outputId": "7311d21c-7e8c-47e2-fa00-76748589fa76"
   },
   "outputs": [
    {
     "name": "stdout",
     "output_type": "stream",
     "text": [
      "+--------------------+----------+------+\n",
      "|  NAME_FAMILY_STATUS|AVG_TARGET|Volume|\n",
      "+--------------------+----------+------+\n",
      "|      Civil marriage|      9.94| 29775|\n",
      "|Single / not married|      9.81| 45444|\n",
      "|           Separated|      8.19| 19770|\n",
      "|             Married|      7.56|196432|\n",
      "|               Widow|      5.82| 16088|\n",
      "|             Unknown|       0.0|     2|\n",
      "+--------------------+----------+------+\n",
      "\n"
     ]
    }
   ],
   "source": [
    "spark.sql(\"\"\"\n",
    "           select \n",
    "              NAME_FAMILY_STATUS,\n",
    "              round(100*avg(TARGET),2) as AVG_TARGET,\n",
    "              count(*) as Volume\n",
    " \n",
    "            from \n",
    "              app_train\n",
    "            group by \n",
    "              NAME_FAMILY_STATUS\n",
    "            order by \n",
    "              AVG_TARGET desc\n",
    "\"\"\").show()"
   ]
  },
  {
   "cell_type": "markdown",
   "metadata": {
    "id": "V3B0NUUYhe-h"
   },
   "source": [
    "- Casais tendem a realizar mais emprestimos, baixa taxa de inadimplencia.\n",
    "- Talvez um compromisso os tornam otimos clientes\n"
   ]
  },
  {
   "cell_type": "markdown",
   "metadata": {
    "id": "5SuY2HT1hdCs"
   },
   "source": [
    "# 9) NAME_HOUSING_TYPE\n",
    "Qual é a situação habitacional do cliente (alugar, viver com os pais)"
   ]
  },
  {
   "cell_type": "code",
   "execution_count": null,
   "metadata": {
    "colab": {
     "base_uri": "https://localhost:8080/"
    },
    "id": "TE9P8GHWg7rw",
    "outputId": "6eebeac0-ffdb-4e9b-e9f2-be67867c6880"
   },
   "outputs": [
    {
     "name": "stdout",
     "output_type": "stream",
     "text": [
      "+-------------------+----------+------+\n",
      "|  NAME_HOUSING_TYPE|AVG_TARGET|Volume|\n",
      "+-------------------+----------+------+\n",
      "|   Rented apartment|     12.31|  4881|\n",
      "|       With parents|      11.7| 14840|\n",
      "|Municipal apartment|      8.54| 11183|\n",
      "|    Co-op apartment|      7.93|  1122|\n",
      "|  House / apartment|       7.8|272868|\n",
      "|   Office apartment|      6.57|  2617|\n",
      "+-------------------+----------+------+\n",
      "\n"
     ]
    }
   ],
   "source": [
    "spark.sql(\"\"\"\n",
    "           select \n",
    "              NAME_HOUSING_TYPE,\n",
    "              round(100*avg(TARGET),2) as AVG_TARGET,\n",
    "              count(*) as Volume\n",
    " \n",
    "            from \n",
    "              app_train\n",
    "            group by \n",
    "              NAME_HOUSING_TYPE\n",
    "            order by \n",
    "              AVG_TARGET desc\n",
    "\"\"\").show()"
   ]
  },
  {
   "cell_type": "markdown",
   "metadata": {
    "id": "c4VPT5nmhckz"
   },
   "source": [
    "Novamente a situação de pessoas com casa/moradia fixa, infere muito no volume de imprestimos, alem da baixa taxa de inadimplencia   \n",
    "\n",
    "Seria esse uma caracteristica em um futuro perfil de 'cliente ideal'?"
   ]
  },
  {
   "cell_type": "markdown",
   "metadata": {
    "id": "PwhwdLiLgVgX"
   },
   "source": [
    "# 10) OCCUPATION_TYPE\n",
    "Diz respeito a ocupação do cliente\n",
    "\n",
    "**Low-skill Laborers**: Trabalhadores de baixa qualificação"
   ]
  },
  {
   "cell_type": "code",
   "execution_count": null,
   "metadata": {
    "colab": {
     "base_uri": "https://localhost:8080/"
    },
    "id": "D7JECoRkeDIZ",
    "outputId": "ec2b5a14-b53a-4f0c-974e-3618116c39a0"
   },
   "outputs": [
    {
     "name": "stdout",
     "output_type": "stream",
     "text": [
      "+--------------------+----------+------+\n",
      "|     OCCUPATION_TYPE|AVG_TARGET|Volume|\n",
      "+--------------------+----------+------+\n",
      "|  Low-skill Laborers|     17.15|  2093|\n",
      "|             Drivers|     11.33| 18603|\n",
      "|Waiters/barmen staff|     11.28|  1348|\n",
      "|      Security staff|     10.74|  6721|\n",
      "|            Laborers|     10.58| 55186|\n",
      "|       Cooking staff|     10.44|  5946|\n",
      "|         Sales staff|      9.63| 32102|\n",
      "|      Cleaning staff|      9.61|  4653|\n",
      "|       Realty agents|      7.86|   751|\n",
      "|         Secretaries|      7.05|  1305|\n",
      "|      Medicine staff|       6.7|  8537|\n",
      "|Private service s...|       6.6|  2652|\n",
      "|                null|      6.51| 96391|\n",
      "|            IT staff|      6.46|   526|\n",
      "|            HR staff|      6.39|   563|\n",
      "|          Core staff|       6.3| 27570|\n",
      "|            Managers|      6.21| 21371|\n",
      "|High skill tech s...|      6.16| 11380|\n",
      "|         Accountants|      4.83|  9813|\n",
      "+--------------------+----------+------+\n",
      "\n"
     ]
    }
   ],
   "source": [
    "spark.sql(\"\"\"\n",
    "            select \n",
    "              OCCUPATION_TYPE,\n",
    "              round(100*avg(TARGET),2) as AVG_TARGET,\n",
    "              count(*) as Volume\n",
    " \n",
    "            from \n",
    "              app_train\n",
    "            group by \n",
    "              OCCUPATION_TYPE\n",
    "            order by \n",
    "              AVG_TARGET desc\n",
    "\"\"\").show()\n"
   ]
  },
  {
   "cell_type": "markdown",
   "metadata": {
    "id": "4oegdPvNfKEW"
   },
   "source": [
    "Mais uma observação seria que os 'trabalhadores de baixa qualificação' tem a maior taxa de inadimplencia, ja os contadores a menor, seria algo logico? kkk\n"
   ]
  },
  {
   "cell_type": "markdown",
   "metadata": {
    "id": "tcA1U_4Zg7ku"
   },
   "source": [
    "#11) WEEKDAY_APPR_PROCESS_START \n",
    "Em que dia da semana o cliente solicitou o empréstimo"
   ]
  },
  {
   "cell_type": "code",
   "execution_count": null,
   "metadata": {
    "colab": {
     "base_uri": "https://localhost:8080/"
    },
    "id": "l_IZLtTkg7ct",
    "outputId": "646566d6-d3b4-419e-c0fc-ba47430320f9"
   },
   "outputs": [
    {
     "name": "stdout",
     "output_type": "stream",
     "text": [
      "+--------------------------+----------+------+\n",
      "|WEEKDAY_APPR_PROCESS_START|AVG_TARGET|Volume|\n",
      "+--------------------------+----------+------+\n",
      "|                   TUESDAY|      8.35| 53901|\n",
      "|                 WEDNESDAY|      8.16| 51934|\n",
      "|                    FRIDAY|      8.15| 50338|\n",
      "|                  THURSDAY|       8.1| 50591|\n",
      "|                    SUNDAY|      7.93| 16181|\n",
      "|                  SATURDAY|      7.89| 33852|\n",
      "|                    MONDAY|      7.76| 50714|\n",
      "+--------------------------+----------+------+\n",
      "\n"
     ]
    }
   ],
   "source": [
    "spark.sql(\"\"\"\n",
    "             select \n",
    "              WEEKDAY_APPR_PROCESS_START,\n",
    "              round(100*avg(TARGET),2) as AVG_TARGET,\n",
    "              count(*) as Volume\n",
    " \n",
    "            from \n",
    "              app_train\n",
    "            group by \n",
    "              WEEKDAY_APPR_PROCESS_START\n",
    "            order by \n",
    "              AVG_TARGET desc\n",
    "\"\"\").show()\n"
   ]
  },
  {
   "cell_type": "markdown",
   "metadata": {
    "id": "1rwizzZKMUBX"
   },
   "source": [
    "- Mais volume nos dias da semana, dados medianos nada a declarar"
   ]
  },
  {
   "cell_type": "markdown",
   "metadata": {
    "id": "U7Rk4wwSg7Ve"
   },
   "source": [
    "## 12) FONDKAPREMONT_MODE \n",
    "Informações normalizadas sobre o prédio onde o cliente mora, Qual é a média (sufixo _AVG), modus (sufixo _MODE), tamanho médio do apartamento (sufixo _MEDI), área comum, área de estar, idade do edifício, número de elevadores, número de entradas, estado do edifício, número de andares"
   ]
  },
  {
   "cell_type": "code",
   "execution_count": null,
   "metadata": {
    "colab": {
     "base_uri": "https://localhost:8080/"
    },
    "id": "Y4R2nB0_g7M8",
    "outputId": "d71fc223-76a5-4dae-f67f-0ac6076eeeed"
   },
   "outputs": [
    {
     "name": "stdout",
     "output_type": "stream",
     "text": [
      "+--------------------+----------+------+\n",
      "|  FONDKAPREMONT_MODE|AVG_TARGET|Volume|\n",
      "+--------------------+----------+------+\n",
      "|                null|      8.62|210295|\n",
      "|       not specified|      7.54|  5687|\n",
      "|    reg oper account|      6.98| 73830|\n",
      "|reg oper spec acc...|      6.56| 12080|\n",
      "|    org spec account|      5.82|  5619|\n",
      "+--------------------+----------+------+\n",
      "\n"
     ]
    }
   ],
   "source": [
    "spark.sql(\"\"\"\n",
    "            select \n",
    "              FONDKAPREMONT_MODE,\n",
    "              round(100*avg(TARGET),2) as AVG_TARGET,\n",
    "              count(*) as Volume\n",
    " \n",
    "            from \n",
    "              app_train\n",
    "            group by \n",
    "              FONDKAPREMONT_MODE\n",
    "            order by \n",
    "              AVG_TARGET desc\n",
    "\"\"\").show()\n"
   ]
  },
  {
   "cell_type": "markdown",
   "metadata": {
    "id": "jbUAiXfsOLA1"
   },
   "source": [
    "- Muitos dados nulls, aparentemente um dado muito especifico, ou muitas pessoas n tinham organizações"
   ]
  },
  {
   "cell_type": "markdown",
   "metadata": {
    "id": "W6N9WHvGg6-j"
   },
   "source": [
    "# 13) HOUSETYPE_MODE \n",
    "Informações normalizadas sobre o edifício onde o cliente mora, Qual é a média (sufixo _AVG), modus (sufixo _MODE), tamanho médio do apartamento (sufixo _MEDI), área comum, área de estar, idade do edifício, número de elevadores, número de entradas, estado do edifício, número de pisos"
   ]
  },
  {
   "cell_type": "code",
   "execution_count": null,
   "metadata": {
    "colab": {
     "base_uri": "https://localhost:8080/"
    },
    "id": "T98LG2Eig60y",
    "outputId": "77d31d1f-79a7-4cfa-8b96-1b4b8b3b1cb2"
   },
   "outputs": [
    {
     "name": "stdout",
     "output_type": "stream",
     "text": [
      "+----------------+----------+------+\n",
      "|  HOUSETYPE_MODE|AVG_TARGET|Volume|\n",
      "+----------------+----------+------+\n",
      "|specific housing|     10.14|  1499|\n",
      "|            null|      9.15|154297|\n",
      "|  terraced house|       8.5|  1212|\n",
      "|  block of flats|      6.94|150503|\n",
      "+----------------+----------+------+\n",
      "\n"
     ]
    }
   ],
   "source": [
    "spark.sql(\"\"\"\n",
    "            select \n",
    "              HOUSETYPE_MODE,\n",
    "              round(100*avg(TARGET),2) as AVG_TARGET,\n",
    "              count(*) as Volume\n",
    " \n",
    "            from \n",
    "              app_train\n",
    "            group by \n",
    "              HOUSETYPE_MODE\n",
    "            order by \n",
    "              AVG_TARGET desc\n",
    "\"\"\").show()\n"
   ]
  },
  {
   "cell_type": "markdown",
   "metadata": {
    "id": "Chia4rlVO4vw"
   },
   "source": [
    "- Alem dos nulls, grande volume para block of flats(blocos de apartamento)"
   ]
  },
  {
   "cell_type": "markdown",
   "metadata": {
    "id": "0mw5vsksLSc2"
   },
   "source": [
    "# 14) WALLSMATERIAL_MODE \n",
    "Informações normalizadas sobre o edifício onde o cliente mora, Qual é a média (sufixo _AVG), modus (sufixo _MODE), tamanho médio do apartamento (sufixo _MEDI), área comum, área de estar, idade do edifício, número de elevadores, número de entradas, estado do edifício, número de pisos"
   ]
  },
  {
   "cell_type": "code",
   "execution_count": null,
   "metadata": {
    "colab": {
     "base_uri": "https://localhost:8080/"
    },
    "id": "wUL2fQPcLRYy",
    "outputId": "72b47936-1eb4-4bfa-9cd8-fed9688430af"
   },
   "outputs": [
    {
     "name": "stdout",
     "output_type": "stream",
     "text": [
      "+------------------+----------+------+\n",
      "|WALLSMATERIAL_MODE|AVG_TARGET|Volume|\n",
      "+------------------+----------+------+\n",
      "|            Wooden|       9.7|  5362|\n",
      "|              null|      9.13|156341|\n",
      "|            Others|      8.31|  1625|\n",
      "|             Mixed|      7.53|  2296|\n",
      "|      Stone, brick|      7.41| 64815|\n",
      "|             Block|      7.02|  9253|\n",
      "|             Panel|      6.35| 66040|\n",
      "|        Monolithic|      4.72|  1779|\n",
      "+------------------+----------+------+\n",
      "\n"
     ]
    }
   ],
   "source": [
    "spark.sql(\"\"\"\n",
    "            select \n",
    "              WALLSMATERIAL_MODE,\n",
    "              round(100*avg(TARGET),2) as AVG_TARGET,\n",
    "              count(*) as Volume\n",
    " \n",
    "            from \n",
    "              app_train\n",
    "            group by \n",
    "              WALLSMATERIAL_MODE\n",
    "            order by \n",
    "              AVG_TARGET desc\n",
    "\"\"\").show()\n"
   ]
  },
  {
   "cell_type": "markdown",
   "metadata": {
    "id": "V7FjlGGHLRRA"
   },
   "source": [
    "## 15) EMERGENCYSTATE_MODE \n",
    "Informações normalizadas sobre o prédio onde o cliente mora, Qual é a média (sufixo _AVG), modus (sufixo _MODE), tamanho médio (sufixo _MEDI) do apartamento, área comum, área de estar, idade do edifício, número de elevadores, número de entradas, estado do edifício, número de andares"
   ]
  },
  {
   "cell_type": "code",
   "execution_count": null,
   "metadata": {
    "colab": {
     "base_uri": "https://localhost:8080/"
    },
    "id": "_1mAtf3VZQjN",
    "outputId": "ada1f041-adbe-4e80-b1fe-7ccb440d3410"
   },
   "outputs": [
    {
     "name": "stdout",
     "output_type": "stream",
     "text": [
      "+--------------------+-------------------+---------------+------------+----------------+----------+\n",
      "|    NAME_INCOME_TYPE|EMERGENCYSTATE_MODE|FLAG_OWN_REALTY|CNT_CHILDREN|AMT_INCOME_TOTAL|AMT_CREDIT|\n",
      "+--------------------+-------------------+---------------+------------+----------------+----------+\n",
      "|Commercial associate|                Yes|              Y|           0|       1350000.0|  675000.0|\n",
      "|Commercial associate|                Yes|              N|           0|       1260000.0| 1864152.0|\n",
      "|Commercial associate|                Yes|              N|           0|       1125000.0|  592560.0|\n",
      "|             Working|                Yes|              Y|           0|        900000.0|  545040.0|\n",
      "|             Working|                Yes|              Y|           0|        675000.0| 1800000.0|\n",
      "|             Working|                Yes|              Y|           1|        675000.0| 1096020.0|\n",
      "|             Working|                Yes|              Y|           1|        675000.0|  463500.0|\n",
      "|       State servant|                Yes|              Y|           0|        670500.0| 2517300.0|\n",
      "|             Working|                Yes|              Y|           0|        630000.0|  500490.0|\n",
      "|             Working|                Yes|              Y|           0|        630000.0| 1528200.0|\n",
      "|             Working|                Yes|              N|           0|        585000.0|  970380.0|\n",
      "|Commercial associate|                Yes|              Y|           0|        540000.0| 1762110.0|\n",
      "|Commercial associate|                Yes|              N|           0|        540000.0|  956574.0|\n",
      "|Commercial associate|                Yes|              N|           2|        540000.0| 1724220.0|\n",
      "|             Working|                Yes|              Y|           1|        540000.0|  106974.0|\n",
      "|       State servant|                Yes|              N|           2|        468000.0|  549000.0|\n",
      "|Commercial associate|                Yes|              Y|           0|        450000.0| 1249740.0|\n",
      "|       State servant|                Yes|              Y|           0|        450000.0|  678456.0|\n",
      "|Commercial associate|                Yes|              Y|           0|        450000.0|  270000.0|\n",
      "|Commercial associate|                Yes|              Y|           1|        450000.0|  180000.0|\n",
      "|Commercial associate|                Yes|              Y|           1|        450000.0|  893254.5|\n",
      "|       State servant|                Yes|              Y|           0|        450000.0| 1258650.0|\n",
      "|Commercial associate|                Yes|              Y|           1|        450000.0| 1113840.0|\n",
      "|             Working|                Yes|              N|           0|        450000.0| 1256400.0|\n",
      "|             Working|                Yes|              Y|           0|        450000.0|  835380.0|\n",
      "|Commercial associate|                Yes|              N|           0|        450000.0| 1800000.0|\n",
      "|             Working|                Yes|              Y|           0|        450000.0| 1006920.0|\n",
      "|Commercial associate|                Yes|              Y|           0|        450000.0| 1350000.0|\n",
      "|             Working|                Yes|              Y|           2|        450000.0|  900000.0|\n",
      "|Commercial associate|                Yes|              Y|           0|        450000.0|  503266.5|\n",
      "|       State servant|                Yes|              Y|           1|        450000.0| 1574532.0|\n",
      "|Commercial associate|                Yes|              Y|           0|        450000.0|  621000.0|\n",
      "|Commercial associate|                Yes|              Y|           0|        441000.0|  755190.0|\n",
      "|Commercial associate|                Yes|              N|           0|        436500.0| 1190340.0|\n",
      "|       State servant|                Yes|              N|           0|        436500.0|  900000.0|\n",
      "|Commercial associate|                Yes|              Y|           1|        414000.0|  363190.5|\n",
      "|Commercial associate|                Yes|              N|           1|        405000.0| 1575000.0|\n",
      "|Commercial associate|                Yes|              N|           2|        405000.0| 1436850.0|\n",
      "|             Working|                Yes|              Y|           0|        405000.0|  263686.5|\n",
      "|             Working|                Yes|              Y|           1|        405000.0| 1800000.0|\n",
      "|             Working|                Yes|              N|           0|        405000.0| 1350000.0|\n",
      "|Commercial associate|                Yes|              Y|           1|        405000.0|  270000.0|\n",
      "|             Working|                Yes|              Y|           4|        405000.0|  728460.0|\n",
      "|             Working|                Yes|              N|           0|        405000.0|  454500.0|\n",
      "|       State servant|                Yes|              N|           0|        405000.0| 1506816.0|\n",
      "|       State servant|                Yes|              Y|           0|        391500.0|  835380.0|\n",
      "|       State servant|                Yes|              N|           0|        391500.0| 1467612.0|\n",
      "|             Working|                Yes|              Y|           0|        391500.0|  463500.0|\n",
      "|             Working|                Yes|              Y|           0|        382500.0| 1570500.0|\n",
      "|Commercial associate|                Yes|              Y|           1|        382500.0| 1938321.0|\n",
      "|             Working|                Yes|              Y|           1|        382500.0|  495000.0|\n",
      "|       State servant|                Yes|              Y|           1|        382500.0| 1483650.0|\n",
      "|             Working|                Yes|              N|           1|        382500.0|  808650.0|\n",
      "|Commercial associate|                Yes|              Y|           0|        360000.0| 2133000.0|\n",
      "|Commercial associate|                Yes|              Y|           2|        360000.0|  755190.0|\n",
      "|             Working|                Yes|              N|           0|        360000.0|  715095.0|\n",
      "|Commercial associate|                Yes|              Y|           0|        360000.0| 1275345.0|\n",
      "|             Working|                Yes|              Y|           0|        360000.0|  965340.0|\n",
      "|             Working|                Yes|              Y|           0|        360000.0|  904216.5|\n",
      "|Commercial associate|                Yes|              Y|           3|        360000.0|  536917.5|\n",
      "|Commercial associate|                Yes|              Y|           1|        360000.0| 1756714.5|\n",
      "|             Working|                Yes|              N|           0|        360000.0| 1762110.0|\n",
      "|             Working|                Yes|              Y|           0|        360000.0|  544491.0|\n",
      "|Commercial associate|                Yes|              N|           1|        360000.0|  835380.0|\n",
      "|Commercial associate|                Yes|              N|           0|        360000.0|  760225.5|\n",
      "|             Working|                Yes|              N|           0|        360000.0| 1255500.0|\n",
      "|             Working|                Yes|              Y|           0|        360000.0| 1288350.0|\n",
      "|             Working|                Yes|              Y|           1|        360000.0|  699808.5|\n",
      "|Commercial associate|                Yes|              Y|           3|        360000.0|  675000.0|\n",
      "|Commercial associate|                Yes|              N|           1|        360000.0| 1166724.0|\n",
      "|             Working|                Yes|              Y|           2|        360000.0|  755190.0|\n",
      "|Commercial associate|                Yes|              N|           0|        360000.0| 1288350.0|\n",
      "|Commercial associate|                Yes|              N|           0|        360000.0| 1699740.0|\n",
      "|Commercial associate|                Yes|              Y|           0|        360000.0| 1762110.0|\n",
      "|             Working|                Yes|              N|           3|        360000.0| 1006920.0|\n",
      "|             Working|                Yes|              Y|           0|        360000.0|  646920.0|\n",
      "|Commercial associate|                Yes|              Y|           1|        360000.0| 1204749.0|\n",
      "|             Working|                Yes|              Y|           0|        351000.0| 1288350.0|\n",
      "|Commercial associate|                Yes|              Y|           1|        351000.0| 1223010.0|\n",
      "|             Working|                Yes|              Y|           0|        351000.0| 1078200.0|\n",
      "|Commercial associate|                Yes|              N|           2|        337500.0|  835380.0|\n",
      "|             Working|                Yes|              Y|           1|        337500.0|  207711.0|\n",
      "|Commercial associate|                Yes|              Y|           0|        337500.0|  675000.0|\n",
      "|             Working|                Yes|              Y|           0|        337500.0|  405000.0|\n",
      "|             Working|                Yes|              Y|           0|        337500.0|  104256.0|\n",
      "|       State servant|                Yes|              N|           0|        337500.0| 1886850.0|\n",
      "|       State servant|                Yes|              Y|           1|        337500.0| 1532506.5|\n",
      "|             Working|                Yes|              N|           1|        337500.0|  410400.0|\n",
      "|Commercial associate|                Yes|              N|           0|        337500.0| 1051245.0|\n",
      "|       State servant|                Yes|              Y|           1|        337500.0|  858114.0|\n",
      "|             Working|                Yes|              Y|           1|        337500.0|  901813.5|\n",
      "|           Pensioner|                Yes|              Y|           0|        337500.0|  487192.5|\n",
      "|Commercial associate|                Yes|              Y|           0|        337500.0|  762979.5|\n",
      "|             Working|                Yes|              Y|           1|        337500.0| 1006920.0|\n",
      "|       State servant|                Yes|              N|           0|        324000.0|  509400.0|\n",
      "|             Working|                Yes|              N|           0|        315000.0|  450000.0|\n",
      "|Commercial associate|                Yes|              Y|           0|        315000.0|  528687.0|\n",
      "|       State servant|                Yes|              Y|           0|        315000.0|  855000.0|\n",
      "|             Working|                Yes|              Y|           0|        315000.0|  509602.5|\n",
      "|Commercial associate|                Yes|              N|           0|        315000.0|  729792.0|\n",
      "+--------------------+-------------------+---------------+------------+----------------+----------+\n",
      "only showing top 100 rows\n",
      "\n"
     ]
    }
   ],
   "source": [
    "spark.sql(\"\"\"select NAME_INCOME_TYPE, \n",
    "            EMERGENCYSTATE_MODE, \n",
    "            FLAG_OWN_REALTY, \n",
    "            CNT_CHILDREN, \n",
    "            AMT_INCOME_TOTAL,\n",
    "            AMT_CREDIT\n",
    "            \n",
    "            from app_train \n",
    "            \n",
    "            WHERE EMERGENCYSTATE_MODE = 'Yes'\n",
    "            \n",
    "            \n",
    "            \n",
    "            \n",
    "            ORDER BY AMT_INCOME_TOTAL DESC\n",
    "            \"\"\").show(100)"
   ]
  },
  {
   "cell_type": "code",
   "execution_count": null,
   "metadata": {
    "colab": {
     "base_uri": "https://localhost:8080/",
     "height": 1000
    },
    "id": "NmsdpQZFLRIq",
    "outputId": "96bcd465-bcf2-4b1b-f43d-904f16d1e903"
   },
   "outputs": [
    {
     "ename": "ParseException",
     "evalue": "ignored",
     "output_type": "error",
     "traceback": [
      "\u001b[0;31m---------------------------------------------------------------------------\u001b[0m",
      "\u001b[0;31mPy4JJavaError\u001b[0m                             Traceback (most recent call last)",
      "\u001b[0;32m/content/spark-2.4.4-bin-hadoop2.7/python/pyspark/sql/utils.py\u001b[0m in \u001b[0;36mdeco\u001b[0;34m(*a, **kw)\u001b[0m\n\u001b[1;32m     62\u001b[0m         \u001b[0;32mtry\u001b[0m\u001b[0;34m:\u001b[0m\u001b[0;34m\u001b[0m\u001b[0;34m\u001b[0m\u001b[0m\n\u001b[0;32m---> 63\u001b[0;31m             \u001b[0;32mreturn\u001b[0m \u001b[0mf\u001b[0m\u001b[0;34m(\u001b[0m\u001b[0;34m*\u001b[0m\u001b[0ma\u001b[0m\u001b[0;34m,\u001b[0m \u001b[0;34m**\u001b[0m\u001b[0mkw\u001b[0m\u001b[0;34m)\u001b[0m\u001b[0;34m\u001b[0m\u001b[0;34m\u001b[0m\u001b[0m\n\u001b[0m\u001b[1;32m     64\u001b[0m         \u001b[0;32mexcept\u001b[0m \u001b[0mpy4j\u001b[0m\u001b[0;34m.\u001b[0m\u001b[0mprotocol\u001b[0m\u001b[0;34m.\u001b[0m\u001b[0mPy4JJavaError\u001b[0m \u001b[0;32mas\u001b[0m \u001b[0me\u001b[0m\u001b[0;34m:\u001b[0m\u001b[0;34m\u001b[0m\u001b[0;34m\u001b[0m\u001b[0m\n",
      "\u001b[0;32mspark-2.4.4-bin-hadoop2.7/python/lib/py4j-0.10.7-src.zip/py4j/protocol.py\u001b[0m in \u001b[0;36mget_return_value\u001b[0;34m(answer, gateway_client, target_id, name)\u001b[0m\n\u001b[1;32m    327\u001b[0m                     \u001b[0;34m\"An error occurred while calling {0}{1}{2}.\\n\"\u001b[0m\u001b[0;34m.\u001b[0m\u001b[0;34m\u001b[0m\u001b[0;34m\u001b[0m\u001b[0m\n\u001b[0;32m--> 328\u001b[0;31m                     format(target_id, \".\", name), value)\n\u001b[0m\u001b[1;32m    329\u001b[0m             \u001b[0;32melse\u001b[0m\u001b[0;34m:\u001b[0m\u001b[0;34m\u001b[0m\u001b[0;34m\u001b[0m\u001b[0m\n",
      "\u001b[0;31mPy4JJavaError\u001b[0m: An error occurred while calling o27.sql.\n: org.apache.spark.sql.catalyst.parser.ParseException: \nmismatched input '(' expecting <EOF>(line 6, pos 19)\n\n== SQL ==\n\n            select \n              EMERGENCYSTATE_MODE,\n              round(100*avg(TARGET),2) as AVG_TARGET,\n              sum()\n              count(*) as Volume\n-------------------^^^\n    \n            from \n              app_train\n            group by \n              EMERGENCYSTATE_MODE\n            order by \n              AVG_TARGET desc\n\n\tat org.apache.spark.sql.catalyst.parser.ParseException.withCommand(ParseDriver.scala:241)\n\tat org.apache.spark.sql.catalyst.parser.AbstractSqlParser.parse(ParseDriver.scala:117)\n\tat org.apache.spark.sql.execution.SparkSqlParser.parse(SparkSqlParser.scala:48)\n\tat org.apache.spark.sql.catalyst.parser.AbstractSqlParser.parsePlan(ParseDriver.scala:69)\n\tat org.apache.spark.sql.SparkSession.sql(SparkSession.scala:642)\n\tat sun.reflect.GeneratedMethodAccessor61.invoke(Unknown Source)\n\tat sun.reflect.DelegatingMethodAccessorImpl.invoke(DelegatingMethodAccessorImpl.java:43)\n\tat java.lang.reflect.Method.invoke(Method.java:498)\n\tat py4j.reflection.MethodInvoker.invoke(MethodInvoker.java:244)\n\tat py4j.reflection.ReflectionEngine.invoke(ReflectionEngine.java:357)\n\tat py4j.Gateway.invoke(Gateway.java:282)\n\tat py4j.commands.AbstractCommand.invokeMethod(AbstractCommand.java:132)\n\tat py4j.commands.CallCommand.execute(CallCommand.java:79)\n\tat py4j.GatewayConnection.run(GatewayConnection.java:238)\n\tat java.lang.Thread.run(Thread.java:750)\n",
      "\nDuring handling of the above exception, another exception occurred:\n",
      "\u001b[0;31mParseException\u001b[0m                            Traceback (most recent call last)",
      "\u001b[0;32m<ipython-input-26-8ca54f893a7a>\u001b[0m in \u001b[0;36m<module>\u001b[0;34m\u001b[0m\n\u001b[1;32m     12\u001b[0m             \u001b[0morder\u001b[0m \u001b[0mby\u001b[0m\u001b[0;34m\u001b[0m\u001b[0;34m\u001b[0m\u001b[0m\n\u001b[1;32m     13\u001b[0m               \u001b[0mAVG_TARGET\u001b[0m \u001b[0mdesc\u001b[0m\u001b[0;34m\u001b[0m\u001b[0;34m\u001b[0m\u001b[0m\n\u001b[0;32m---> 14\u001b[0;31m \"\"\").show()\n\u001b[0m",
      "\u001b[0;32m/content/spark-2.4.4-bin-hadoop2.7/python/pyspark/sql/session.py\u001b[0m in \u001b[0;36msql\u001b[0;34m(self, sqlQuery)\u001b[0m\n\u001b[1;32m    765\u001b[0m         \u001b[0;34m[\u001b[0m\u001b[0mRow\u001b[0m\u001b[0;34m(\u001b[0m\u001b[0mf1\u001b[0m\u001b[0;34m=\u001b[0m\u001b[0;36m1\u001b[0m\u001b[0;34m,\u001b[0m \u001b[0mf2\u001b[0m\u001b[0;34m=\u001b[0m\u001b[0;34mu'row1'\u001b[0m\u001b[0;34m)\u001b[0m\u001b[0;34m,\u001b[0m \u001b[0mRow\u001b[0m\u001b[0;34m(\u001b[0m\u001b[0mf1\u001b[0m\u001b[0;34m=\u001b[0m\u001b[0;36m2\u001b[0m\u001b[0;34m,\u001b[0m \u001b[0mf2\u001b[0m\u001b[0;34m=\u001b[0m\u001b[0;34mu'row2'\u001b[0m\u001b[0;34m)\u001b[0m\u001b[0;34m,\u001b[0m \u001b[0mRow\u001b[0m\u001b[0;34m(\u001b[0m\u001b[0mf1\u001b[0m\u001b[0;34m=\u001b[0m\u001b[0;36m3\u001b[0m\u001b[0;34m,\u001b[0m \u001b[0mf2\u001b[0m\u001b[0;34m=\u001b[0m\u001b[0;34mu'row3'\u001b[0m\u001b[0;34m)\u001b[0m\u001b[0;34m]\u001b[0m\u001b[0;34m\u001b[0m\u001b[0;34m\u001b[0m\u001b[0m\n\u001b[1;32m    766\u001b[0m         \"\"\"\n\u001b[0;32m--> 767\u001b[0;31m         \u001b[0;32mreturn\u001b[0m \u001b[0mDataFrame\u001b[0m\u001b[0;34m(\u001b[0m\u001b[0mself\u001b[0m\u001b[0;34m.\u001b[0m\u001b[0m_jsparkSession\u001b[0m\u001b[0;34m.\u001b[0m\u001b[0msql\u001b[0m\u001b[0;34m(\u001b[0m\u001b[0msqlQuery\u001b[0m\u001b[0;34m)\u001b[0m\u001b[0;34m,\u001b[0m \u001b[0mself\u001b[0m\u001b[0;34m.\u001b[0m\u001b[0m_wrapped\u001b[0m\u001b[0;34m)\u001b[0m\u001b[0;34m\u001b[0m\u001b[0;34m\u001b[0m\u001b[0m\n\u001b[0m\u001b[1;32m    768\u001b[0m \u001b[0;34m\u001b[0m\u001b[0m\n\u001b[1;32m    769\u001b[0m     \u001b[0;34m@\u001b[0m\u001b[0msince\u001b[0m\u001b[0;34m(\u001b[0m\u001b[0;36m2.0\u001b[0m\u001b[0;34m)\u001b[0m\u001b[0;34m\u001b[0m\u001b[0;34m\u001b[0m\u001b[0m\n",
      "\u001b[0;32mspark-2.4.4-bin-hadoop2.7/python/lib/py4j-0.10.7-src.zip/py4j/java_gateway.py\u001b[0m in \u001b[0;36m__call__\u001b[0;34m(self, *args)\u001b[0m\n\u001b[1;32m   1255\u001b[0m         \u001b[0manswer\u001b[0m \u001b[0;34m=\u001b[0m \u001b[0mself\u001b[0m\u001b[0;34m.\u001b[0m\u001b[0mgateway_client\u001b[0m\u001b[0;34m.\u001b[0m\u001b[0msend_command\u001b[0m\u001b[0;34m(\u001b[0m\u001b[0mcommand\u001b[0m\u001b[0;34m)\u001b[0m\u001b[0;34m\u001b[0m\u001b[0;34m\u001b[0m\u001b[0m\n\u001b[1;32m   1256\u001b[0m         return_value = get_return_value(\n\u001b[0;32m-> 1257\u001b[0;31m             answer, self.gateway_client, self.target_id, self.name)\n\u001b[0m\u001b[1;32m   1258\u001b[0m \u001b[0;34m\u001b[0m\u001b[0m\n\u001b[1;32m   1259\u001b[0m         \u001b[0;32mfor\u001b[0m \u001b[0mtemp_arg\u001b[0m \u001b[0;32min\u001b[0m \u001b[0mtemp_args\u001b[0m\u001b[0;34m:\u001b[0m\u001b[0;34m\u001b[0m\u001b[0;34m\u001b[0m\u001b[0m\n",
      "\u001b[0;32m/content/spark-2.4.4-bin-hadoop2.7/python/pyspark/sql/utils.py\u001b[0m in \u001b[0;36mdeco\u001b[0;34m(*a, **kw)\u001b[0m\n\u001b[1;32m     71\u001b[0m                 \u001b[0;32mraise\u001b[0m \u001b[0mAnalysisException\u001b[0m\u001b[0;34m(\u001b[0m\u001b[0ms\u001b[0m\u001b[0;34m.\u001b[0m\u001b[0msplit\u001b[0m\u001b[0;34m(\u001b[0m\u001b[0;34m': '\u001b[0m\u001b[0;34m,\u001b[0m \u001b[0;36m1\u001b[0m\u001b[0;34m)\u001b[0m\u001b[0;34m[\u001b[0m\u001b[0;36m1\u001b[0m\u001b[0;34m]\u001b[0m\u001b[0;34m,\u001b[0m \u001b[0mstackTrace\u001b[0m\u001b[0;34m)\u001b[0m\u001b[0;34m\u001b[0m\u001b[0;34m\u001b[0m\u001b[0m\n\u001b[1;32m     72\u001b[0m             \u001b[0;32mif\u001b[0m \u001b[0ms\u001b[0m\u001b[0;34m.\u001b[0m\u001b[0mstartswith\u001b[0m\u001b[0;34m(\u001b[0m\u001b[0;34m'org.apache.spark.sql.catalyst.parser.ParseException: '\u001b[0m\u001b[0;34m)\u001b[0m\u001b[0;34m:\u001b[0m\u001b[0;34m\u001b[0m\u001b[0;34m\u001b[0m\u001b[0m\n\u001b[0;32m---> 73\u001b[0;31m                 \u001b[0;32mraise\u001b[0m \u001b[0mParseException\u001b[0m\u001b[0;34m(\u001b[0m\u001b[0ms\u001b[0m\u001b[0;34m.\u001b[0m\u001b[0msplit\u001b[0m\u001b[0;34m(\u001b[0m\u001b[0;34m': '\u001b[0m\u001b[0;34m,\u001b[0m \u001b[0;36m1\u001b[0m\u001b[0;34m)\u001b[0m\u001b[0;34m[\u001b[0m\u001b[0;36m1\u001b[0m\u001b[0;34m]\u001b[0m\u001b[0;34m,\u001b[0m \u001b[0mstackTrace\u001b[0m\u001b[0;34m)\u001b[0m\u001b[0;34m\u001b[0m\u001b[0;34m\u001b[0m\u001b[0m\n\u001b[0m\u001b[1;32m     74\u001b[0m             \u001b[0;32mif\u001b[0m \u001b[0ms\u001b[0m\u001b[0;34m.\u001b[0m\u001b[0mstartswith\u001b[0m\u001b[0;34m(\u001b[0m\u001b[0;34m'org.apache.spark.sql.streaming.StreamingQueryException: '\u001b[0m\u001b[0;34m)\u001b[0m\u001b[0;34m:\u001b[0m\u001b[0;34m\u001b[0m\u001b[0;34m\u001b[0m\u001b[0m\n\u001b[1;32m     75\u001b[0m                 \u001b[0;32mraise\u001b[0m \u001b[0mStreamingQueryException\u001b[0m\u001b[0;34m(\u001b[0m\u001b[0ms\u001b[0m\u001b[0;34m.\u001b[0m\u001b[0msplit\u001b[0m\u001b[0;34m(\u001b[0m\u001b[0;34m': '\u001b[0m\u001b[0;34m,\u001b[0m \u001b[0;36m1\u001b[0m\u001b[0;34m)\u001b[0m\u001b[0;34m[\u001b[0m\u001b[0;36m1\u001b[0m\u001b[0;34m]\u001b[0m\u001b[0;34m,\u001b[0m \u001b[0mstackTrace\u001b[0m\u001b[0;34m)\u001b[0m\u001b[0;34m\u001b[0m\u001b[0;34m\u001b[0m\u001b[0m\n",
      "\u001b[0;31mParseException\u001b[0m: \"\\nmismatched input '(' expecting <EOF>(line 6, pos 19)\\n\\n== SQL ==\\n\\n            select \\n              EMERGENCYSTATE_MODE,\\n              round(100*avg(TARGET),2) as AVG_TARGET,\\n              sum()\\n              count(*) as Volume\\n-------------------^^^\\n    \\n            from \\n              app_train\\n            group by \\n              EMERGENCYSTATE_MODE\\n            order by \\n              AVG_TARGET desc\\n\""
     ]
    }
   ],
   "source": [
    "spark.sql(\"\"\"\n",
    "            select \n",
    "              EMERGENCYSTATE_MODE,\n",
    "              round(100*avg(TARGET),2) as AVG_TARGET,\n",
    "              sum()\n",
    "              count(*) as Volume\n",
    "    \n",
    "            from \n",
    "              app_train\n",
    "            group by \n",
    "              EMERGENCYSTATE_MODE\n",
    "            order by \n",
    "              AVG_TARGET desc\n",
    "\"\"\").show()\n"
   ]
  },
  {
   "cell_type": "markdown",
   "metadata": {
    "id": "WjEDshDHP2Vp"
   },
   "source": [
    "- Estado de emergencia na moradia, grande paerte null/não porem a menor taxa é dos que não estão necessitados, complicado"
   ]
  },
  {
   "cell_type": "markdown",
   "metadata": {
    "id": "e5Uf62_vLQ3u"
   },
   "source": [
    "# 16) ORGANIZATION_TYPE \n",
    "Tipo de organização onde o cliente trabalha"
   ]
  },
  {
   "cell_type": "code",
   "execution_count": null,
   "metadata": {
    "colab": {
     "base_uri": "https://localhost:8080/"
    },
    "id": "wAT8iczWLQQI",
    "outputId": "04f01b40-ce68-4f89-8e8f-72d89bdbe4ec"
   },
   "outputs": [
    {
     "name": "stdout",
     "output_type": "stream",
     "text": [
      "+--------------------+----------+------+\n",
      "|   ORGANIZATION_TYPE|AVG_TARGET|Volume|\n",
      "+--------------------+----------+------+\n",
      "|   Transport: type 3|     15.75|  1187|\n",
      "|   Industry: type 13|     13.43|    67|\n",
      "|    Industry: type 8|      12.5|    24|\n",
      "|          Restaurant|     11.71|  1811|\n",
      "|        Construction|     11.68|  6721|\n",
      "|            Cleaning|     11.15|   260|\n",
      "|    Industry: type 1|     11.07|  1039|\n",
      "|    Industry: type 3|     10.62|  3278|\n",
      "|             Realtor|     10.61|   396|\n",
      "|         Agriculture|     10.47|  2454|\n",
      "|       Trade: type 3|     10.34|  3492|\n",
      "|       Self-employed|     10.17| 38412|\n",
      "|    Industry: type 4|     10.15|   877|\n",
      "|            Security|      9.98|  3247|\n",
      "|       Trade: type 7|      9.45|  7831|\n",
      "|Business Entity T...|       9.3| 67992|\n",
      "|   Transport: type 4|      9.28|  5398|\n",
      "|              Mobile|      9.15|   317|\n",
      "|       Trade: type 1|      8.91|   348|\n",
      "|   Industry: type 11|      8.65|  2704|\n",
      "+--------------------+----------+------+\n",
      "only showing top 20 rows\n",
      "\n"
     ]
    }
   ],
   "source": [
    "spark.sql(\"\"\"\n",
    "            select \n",
    "              ORGANIZATION_TYPE,\n",
    "              round(100*avg(TARGET),2) as AVG_TARGET,\n",
    "              count(*) as Volume\n",
    " \n",
    "            from \n",
    "              app_train\n",
    "            group by \n",
    "              ORGANIZATION_TYPE\n",
    "            order by \n",
    "              AVG_TARGET desc\n",
    "\"\"\").show()\n"
   ]
  },
  {
   "cell_type": "markdown",
   "metadata": {
    "id": "KN2k9ZmgMyhD"
   },
   "source": [
    "- Nada a declarar"
   ]
  },
  {
   "cell_type": "code",
   "execution_count": null,
   "metadata": {
    "id": "unWgKn33VTKY"
   },
   "outputs": [],
   "source": [
    "spark.sql(\"select EMERGENCY_STATE from \")"
   ]
  },
  {
   "cell_type": "markdown",
   "metadata": {
    "id": "ZHHLHCisQV6w"
   },
   "source": [
    "# Dados"
   ]
  },
  {
   "cell_type": "code",
   "execution_count": null,
   "metadata": {
    "colab": {
     "base_uri": "https://localhost:8080/"
    },
    "id": "5_-1GX3jQMgC",
    "outputId": "95df5f6f-dcd3-4ac4-d026-bcbe91e9a22c"
   },
   "outputs": [
    {
     "name": "stdout",
     "output_type": "stream",
     "text": [
      "+----------+------+------------------+-----------+------------+---------------+------------+----------------+----------+-----------+---------------+---------------+--------------------+--------------------+--------------------+-----------------+--------------------------+----------+-------------+-----------------+---------------+-----------+----------+--------------+---------------+----------------+----------+----------+---------------+---------------+--------------------+---------------------------+--------------------------+-----------------------+--------------------------+--------------------------+---------------------------+----------------------+----------------------+-----------------------+--------------------+-------------------+-------------------+-------------------+--------------+----------------+---------------------------+------------------+--------------+-------------+-------------+-------------+-------------+------------+--------------------+--------------+-----------------------+-----------------+---------------+-----------------+----------------------------+----------------+---------------+--------------+--------------+--------------+--------------+-------------+---------------------+---------------+------------------------+------------------+---------------+-----------------+----------------------------+------------------+---------------+--------------+--------------+--------------+--------------+-------------+---------------------+---------------+------------------------+------------------+------------------+--------------+--------------+------------------+-------------------+------------------------+------------------------+------------------------+------------------------+----------------------+---------------+---------------+---------------+---------------+---------------+---------------+---------------+---------------+----------------+----------------+----------------+----------------+----------------+----------------+----------------+----------------+----------------+----------------+----------------+----------------+--------------------------+-------------------------+--------------------------+-------------------------+-------------------------+--------------------------+\n",
      "|SK_ID_CURR|TARGET|NAME_CONTRACT_TYPE|CODE_GENDER|FLAG_OWN_CAR|FLAG_OWN_REALTY|CNT_CHILDREN|AMT_INCOME_TOTAL|AMT_CREDIT|AMT_ANNUITY|AMT_GOODS_PRICE|NAME_TYPE_SUITE|    NAME_INCOME_TYPE| NAME_EDUCATION_TYPE|  NAME_FAMILY_STATUS|NAME_HOUSING_TYPE|REGION_POPULATION_RELATIVE|DAYS_BIRTH|DAYS_EMPLOYED|DAYS_REGISTRATION|DAYS_ID_PUBLISH|OWN_CAR_AGE|FLAG_MOBIL|FLAG_EMP_PHONE|FLAG_WORK_PHONE|FLAG_CONT_MOBILE|FLAG_PHONE|FLAG_EMAIL|OCCUPATION_TYPE|CNT_FAM_MEMBERS|REGION_RATING_CLIENT|REGION_RATING_CLIENT_W_CITY|WEEKDAY_APPR_PROCESS_START|HOUR_APPR_PROCESS_START|REG_REGION_NOT_LIVE_REGION|REG_REGION_NOT_WORK_REGION|LIVE_REGION_NOT_WORK_REGION|REG_CITY_NOT_LIVE_CITY|REG_CITY_NOT_WORK_CITY|LIVE_CITY_NOT_WORK_CITY|   ORGANIZATION_TYPE|       EXT_SOURCE_1|       EXT_SOURCE_2|       EXT_SOURCE_3|APARTMENTS_AVG|BASEMENTAREA_AVG|YEARS_BEGINEXPLUATATION_AVG|   YEARS_BUILD_AVG|COMMONAREA_AVG|ELEVATORS_AVG|ENTRANCES_AVG|FLOORSMAX_AVG|FLOORSMIN_AVG|LANDAREA_AVG|LIVINGAPARTMENTS_AVG|LIVINGAREA_AVG|NONLIVINGAPARTMENTS_AVG|NONLIVINGAREA_AVG|APARTMENTS_MODE|BASEMENTAREA_MODE|YEARS_BEGINEXPLUATATION_MODE|YEARS_BUILD_MODE|COMMONAREA_MODE|ELEVATORS_MODE|ENTRANCES_MODE|FLOORSMAX_MODE|FLOORSMIN_MODE|LANDAREA_MODE|LIVINGAPARTMENTS_MODE|LIVINGAREA_MODE|NONLIVINGAPARTMENTS_MODE|NONLIVINGAREA_MODE|APARTMENTS_MEDI|BASEMENTAREA_MEDI|YEARS_BEGINEXPLUATATION_MEDI|  YEARS_BUILD_MEDI|COMMONAREA_MEDI|ELEVATORS_MEDI|ENTRANCES_MEDI|FLOORSMAX_MEDI|FLOORSMIN_MEDI|LANDAREA_MEDI|LIVINGAPARTMENTS_MEDI|LIVINGAREA_MEDI|NONLIVINGAPARTMENTS_MEDI|NONLIVINGAREA_MEDI|FONDKAPREMONT_MODE|HOUSETYPE_MODE|TOTALAREA_MODE|WALLSMATERIAL_MODE|EMERGENCYSTATE_MODE|OBS_30_CNT_SOCIAL_CIRCLE|DEF_30_CNT_SOCIAL_CIRCLE|OBS_60_CNT_SOCIAL_CIRCLE|DEF_60_CNT_SOCIAL_CIRCLE|DAYS_LAST_PHONE_CHANGE|FLAG_DOCUMENT_2|FLAG_DOCUMENT_3|FLAG_DOCUMENT_4|FLAG_DOCUMENT_5|FLAG_DOCUMENT_6|FLAG_DOCUMENT_7|FLAG_DOCUMENT_8|FLAG_DOCUMENT_9|FLAG_DOCUMENT_10|FLAG_DOCUMENT_11|FLAG_DOCUMENT_12|FLAG_DOCUMENT_13|FLAG_DOCUMENT_14|FLAG_DOCUMENT_15|FLAG_DOCUMENT_16|FLAG_DOCUMENT_17|FLAG_DOCUMENT_18|FLAG_DOCUMENT_19|FLAG_DOCUMENT_20|FLAG_DOCUMENT_21|AMT_REQ_CREDIT_BUREAU_HOUR|AMT_REQ_CREDIT_BUREAU_DAY|AMT_REQ_CREDIT_BUREAU_WEEK|AMT_REQ_CREDIT_BUREAU_MON|AMT_REQ_CREDIT_BUREAU_QRT|AMT_REQ_CREDIT_BUREAU_YEAR|\n",
      "+----------+------+------------------+-----------+------------+---------------+------------+----------------+----------+-----------+---------------+---------------+--------------------+--------------------+--------------------+-----------------+--------------------------+----------+-------------+-----------------+---------------+-----------+----------+--------------+---------------+----------------+----------+----------+---------------+---------------+--------------------+---------------------------+--------------------------+-----------------------+--------------------------+--------------------------+---------------------------+----------------------+----------------------+-----------------------+--------------------+-------------------+-------------------+-------------------+--------------+----------------+---------------------------+------------------+--------------+-------------+-------------+-------------+-------------+------------+--------------------+--------------+-----------------------+-----------------+---------------+-----------------+----------------------------+----------------+---------------+--------------+--------------+--------------+--------------+-------------+---------------------+---------------+------------------------+------------------+---------------+-----------------+----------------------------+------------------+---------------+--------------+--------------+--------------+--------------+-------------+---------------------+---------------+------------------------+------------------+------------------+--------------+--------------+------------------+-------------------+------------------------+------------------------+------------------------+------------------------+----------------------+---------------+---------------+---------------+---------------+---------------+---------------+---------------+---------------+----------------+----------------+----------------+----------------+----------------+----------------+----------------+----------------+----------------+----------------+----------------+----------------+--------------------------+-------------------------+--------------------------+-------------------------+-------------------------+--------------------------+\n",
      "|    100002|     1|        Cash loans|          M|           N|              Y|           0|        202500.0|  406597.5|    24700.5|       351000.0|  Unaccompanied|             Working|Secondary / secon...|Single / not married|House / apartment|                  0.018801|     -9461|         -637|          -3648.0|          -2120|       null|         1|             1|              0|               1|         1|         0|       Laborers|            1.0|                   2|                          2|                 WEDNESDAY|                     10|                         0|                         0|                          0|                     0|                     0|                      0|Business Entity T...|0.08303696739132256| 0.2629485927471776|0.13937578009978951|        0.0247|          0.0369|                     0.9722|            0.6192|        0.0143|          0.0|        0.069|       0.0833|        0.125|      0.0369|              0.0202|         0.019|                    0.0|              0.0|         0.0252|           0.0383|                      0.9722|          0.6341|         0.0144|           0.0|         0.069|        0.0833|         0.125|       0.0377|                0.022|         0.0198|                     0.0|               0.0|          0.025|           0.0369|                      0.9722|            0.6243|         0.0144|           0.0|         0.069|        0.0833|         0.125|       0.0375|               0.0205|         0.0193|                     0.0|               0.0|  reg oper account|block of flats|        0.0149|      Stone, brick|                 No|                     2.0|                     2.0|                     2.0|                     2.0|               -1134.0|              0|              1|              0|              0|              0|              0|              0|              0|               0|               0|               0|               0|               0|               0|               0|               0|               0|               0|               0|               0|                       0.0|                      0.0|                       0.0|                      0.0|                      0.0|                       1.0|\n",
      "|    100003|     0|        Cash loans|          F|           N|              N|           0|        270000.0| 1293502.5|    35698.5|      1129500.0|         Family|       State servant|    Higher education|             Married|House / apartment|      0.003540999999999999|    -16765|        -1188|          -1186.0|           -291|       null|         1|             1|              0|               1|         1|         0|     Core staff|            2.0|                   1|                          1|                    MONDAY|                     11|                         0|                         0|                          0|                     0|                     0|                      0|              School| 0.3112673113812225| 0.6222457752555098|               null|        0.0959|          0.0529|                     0.9851|0.7959999999999999|        0.0605|         0.08|       0.0345|       0.2917|       0.3333|       0.013|              0.0773|        0.0549|                 0.0039|           0.0098|         0.0924|           0.0538|                      0.9851|           0.804|         0.0497|        0.0806|        0.0345|        0.2917|        0.3333|       0.0128|                0.079|         0.0554|                     0.0|               0.0|         0.0968|           0.0529|                      0.9851|            0.7987|         0.0608|          0.08|        0.0345|        0.2917|        0.3333|       0.0132|               0.0787|         0.0558|                  0.0039|              0.01|  reg oper account|block of flats|        0.0714|             Block|                 No|                     1.0|                     0.0|                     1.0|                     0.0|                -828.0|              0|              1|              0|              0|              0|              0|              0|              0|               0|               0|               0|               0|               0|               0|               0|               0|               0|               0|               0|               0|                       0.0|                      0.0|                       0.0|                      0.0|                      0.0|                       0.0|\n",
      "|    100004|     0|   Revolving loans|          M|           Y|              Y|           0|         67500.0|  135000.0|     6750.0|       135000.0|  Unaccompanied|             Working|Secondary / secon...|Single / not married|House / apartment|                  0.010032|    -19046|         -225|          -4260.0|          -2531|       26.0|         1|             1|              1|               1|         1|         0|       Laborers|            1.0|                   2|                          2|                    MONDAY|                      9|                         0|                         0|                          0|                     0|                     0|                      0|          Government|               null| 0.5559120833904428| 0.7295666907060153|          null|            null|                       null|              null|          null|         null|         null|         null|         null|        null|                null|          null|                   null|             null|           null|             null|                        null|            null|           null|          null|          null|          null|          null|         null|                 null|           null|                    null|              null|           null|             null|                        null|              null|           null|          null|          null|          null|          null|         null|                 null|           null|                    null|              null|              null|          null|          null|              null|               null|                     0.0|                     0.0|                     0.0|                     0.0|                -815.0|              0|              0|              0|              0|              0|              0|              0|              0|               0|               0|               0|               0|               0|               0|               0|               0|               0|               0|               0|               0|                       0.0|                      0.0|                       0.0|                      0.0|                      0.0|                       0.0|\n",
      "|    100006|     0|        Cash loans|          F|           N|              Y|           0|        135000.0|  312682.5|    29686.5|       297000.0|  Unaccompanied|             Working|Secondary / secon...|      Civil marriage|House / apartment|                  0.008019|    -19005|        -3039|          -9833.0|          -2437|       null|         1|             1|              0|               1|         0|         0|       Laborers|            2.0|                   2|                          2|                 WEDNESDAY|                     17|                         0|                         0|                          0|                     0|                     0|                      0|Business Entity T...|               null| 0.6504416904014653|               null|          null|            null|                       null|              null|          null|         null|         null|         null|         null|        null|                null|          null|                   null|             null|           null|             null|                        null|            null|           null|          null|          null|          null|          null|         null|                 null|           null|                    null|              null|           null|             null|                        null|              null|           null|          null|          null|          null|          null|         null|                 null|           null|                    null|              null|              null|          null|          null|              null|               null|                     2.0|                     0.0|                     2.0|                     0.0|                -617.0|              0|              1|              0|              0|              0|              0|              0|              0|               0|               0|               0|               0|               0|               0|               0|               0|               0|               0|               0|               0|                      null|                     null|                      null|                     null|                     null|                      null|\n",
      "|    100007|     0|        Cash loans|          M|           N|              Y|           0|        121500.0|  513000.0|    21865.5|       513000.0|  Unaccompanied|             Working|Secondary / secon...|Single / not married|House / apartment|                  0.028663|    -19932|        -3038|          -4311.0|          -3458|       null|         1|             1|              0|               1|         0|         0|     Core staff|            1.0|                   2|                          2|                  THURSDAY|                     11|                         0|                         0|                          0|                     0|                     1|                      1|            Religion|               null| 0.3227382869704046|               null|          null|            null|                       null|              null|          null|         null|         null|         null|         null|        null|                null|          null|                   null|             null|           null|             null|                        null|            null|           null|          null|          null|          null|          null|         null|                 null|           null|                    null|              null|           null|             null|                        null|              null|           null|          null|          null|          null|          null|         null|                 null|           null|                    null|              null|              null|          null|          null|              null|               null|                     0.0|                     0.0|                     0.0|                     0.0|               -1106.0|              0|              0|              0|              0|              0|              0|              1|              0|               0|               0|               0|               0|               0|               0|               0|               0|               0|               0|               0|               0|                       0.0|                      0.0|                       0.0|                      0.0|                      0.0|                       0.0|\n",
      "|    100008|     0|        Cash loans|          M|           N|              Y|           0|         99000.0|  490495.5|    27517.5|       454500.0|Spouse, partner|       State servant|Secondary / secon...|             Married|House / apartment|      0.035792000000000004|    -16941|        -1588|          -4970.0|           -477|       null|         1|             1|              1|               1|         1|         0|       Laborers|            2.0|                   2|                          2|                 WEDNESDAY|                     16|                         0|                         0|                          0|                     0|                     0|                      0|               Other|               null| 0.3542247319929012| 0.6212263380626669|          null|            null|                       null|              null|          null|         null|         null|         null|         null|        null|                null|          null|                   null|             null|           null|             null|                        null|            null|           null|          null|          null|          null|          null|         null|                 null|           null|                    null|              null|           null|             null|                        null|              null|           null|          null|          null|          null|          null|         null|                 null|           null|                    null|              null|              null|          null|          null|              null|               null|                     0.0|                     0.0|                     0.0|                     0.0|               -2536.0|              0|              1|              0|              0|              0|              0|              0|              0|               0|               0|               0|               0|               0|               0|               0|               0|               0|               0|               0|               0|                       0.0|                      0.0|                       0.0|                      0.0|                      1.0|                       1.0|\n",
      "|    100009|     0|        Cash loans|          F|           Y|              Y|           1|        171000.0| 1560726.0|    41301.0|      1395000.0|  Unaccompanied|Commercial associate|    Higher education|             Married|House / apartment|      0.035792000000000004|    -13778|        -3130|          -1213.0|           -619|       17.0|         1|             1|              0|               1|         1|         0|    Accountants|            3.0|                   2|                          2|                    SUNDAY|                     16|                         0|                         0|                          0|                     0|                     0|                      0|Business Entity T...| 0.7747614130547695| 0.7239998516953141| 0.4920600938649263|          null|            null|                       null|              null|          null|         null|         null|         null|         null|        null|                null|          null|                   null|             null|           null|             null|                        null|            null|           null|          null|          null|          null|          null|         null|                 null|           null|                    null|              null|           null|             null|                        null|              null|           null|          null|          null|          null|          null|         null|                 null|           null|                    null|              null|              null|          null|          null|              null|               null|                     1.0|                     0.0|                     1.0|                     0.0|               -1562.0|              0|              0|              0|              0|              0|              0|              1|              0|               0|               0|               0|               0|               1|               0|               0|               0|               0|               0|               0|               0|                       0.0|                      0.0|                       0.0|                      1.0|                      1.0|                       2.0|\n",
      "|    100010|     0|        Cash loans|          M|           Y|              Y|           0|        360000.0| 1530000.0|    42075.0|      1530000.0|  Unaccompanied|       State servant|    Higher education|             Married|House / apartment|      0.003121999999999...|    -18850|         -449|          -4597.0|          -2379|        8.0|         1|             1|              1|               1|         0|         0|       Managers|            2.0|                   3|                          3|                    MONDAY|                     16|                         0|                         0|                          0|                     0|                     1|                      1|               Other|               null| 0.7142792864482229| 0.5406544504453575|          null|            null|                       null|              null|          null|         null|         null|         null|         null|        null|                null|          null|                   null|             null|           null|             null|                        null|            null|           null|          null|          null|          null|          null|         null|                 null|           null|                    null|              null|           null|             null|                        null|              null|           null|          null|          null|          null|          null|         null|                 null|           null|                    null|              null|              null|          null|          null|              null|               null|                     2.0|                     0.0|                     2.0|                     0.0|               -1070.0|              0|              1|              0|              0|              0|              0|              0|              0|               0|               0|               0|               0|               0|               0|               0|               0|               0|               0|               0|               0|                       0.0|                      0.0|                       0.0|                      0.0|                      0.0|                       0.0|\n",
      "|    100011|     0|        Cash loans|          F|           N|              Y|           0|        112500.0| 1019610.0|    33826.5|       913500.0|       Children|           Pensioner|Secondary / secon...|             Married|House / apartment|                  0.018634|    -20099|       365243|          -7427.0|          -3514|       null|         1|             0|              0|               1|         0|         0|           null|            2.0|                   2|                          2|                 WEDNESDAY|                     14|                         0|                         0|                          0|                     0|                     0|                      0|                 XNA| 0.5873340468730377|0.20574728800732814| 0.7517237147741489|          null|            null|                       null|              null|          null|         null|         null|         null|         null|        null|                null|          null|                   null|             null|           null|             null|                        null|            null|           null|          null|          null|          null|          null|         null|                 null|           null|                    null|              null|           null|             null|                        null|              null|           null|          null|          null|          null|          null|         null|                 null|           null|                    null|              null|              null|          null|          null|              null|               null|                     1.0|                     0.0|                     1.0|                     0.0|                   0.0|              0|              1|              0|              0|              0|              0|              0|              0|               0|               0|               0|               0|               0|               0|               0|               0|               0|               0|               0|               0|                       0.0|                      0.0|                       0.0|                      0.0|                      0.0|                       1.0|\n",
      "|    100012|     0|   Revolving loans|          M|           N|              Y|           0|        135000.0|  405000.0|    20250.0|       405000.0|  Unaccompanied|             Working|Secondary / secon...|Single / not married|House / apartment|      0.019688999999999998|    -14469|        -2019|         -14437.0|          -3992|       null|         1|             1|              0|               1|         0|         0|       Laborers|            1.0|                   2|                          2|                  THURSDAY|                      8|                         0|                         0|                          0|                     0|                     0|                      0|         Electricity|               null| 0.7466436294590924|               null|          null|            null|                       null|              null|          null|         null|         null|         null|         null|        null|                null|          null|                   null|             null|           null|             null|                        null|            null|           null|          null|          null|          null|          null|         null|                 null|           null|                    null|              null|           null|             null|                        null|              null|           null|          null|          null|          null|          null|         null|                 null|           null|                    null|              null|              null|          null|          null|              null|               null|                     2.0|                     0.0|                     2.0|                     0.0|               -1673.0|              0|              0|              0|              0|              0|              0|              0|              0|               0|               0|               0|               0|               0|               0|               0|               0|               0|               0|               0|               0|                      null|                     null|                      null|                     null|                     null|                      null|\n",
      "|    100014|     0|        Cash loans|          F|           N|              Y|           1|        112500.0|  652500.0|    21177.0|       652500.0|  Unaccompanied|             Working|    Higher education|             Married|House / apartment|                    0.0228|    -10197|         -679|          -4427.0|           -738|       null|         1|             1|              0|               1|         0|         0|     Core staff|            3.0|                   2|                          2|                  SATURDAY|                     15|                         0|                         0|                          0|                     0|                     0|                      0|            Medicine| 0.3197601716755032| 0.6518623334244781|  0.363945238612397|          null|            null|                       null|              null|          null|         null|         null|         null|         null|        null|                null|          null|                   null|             null|           null|             null|                        null|            null|           null|          null|          null|          null|          null|         null|                 null|           null|                    null|              null|           null|             null|                        null|              null|           null|          null|          null|          null|          null|         null|                 null|           null|                    null|              null|              null|          null|          null|              null|               null|                     0.0|                     0.0|                     0.0|                     0.0|                -844.0|              0|              1|              0|              0|              0|              0|              0|              0|               0|               0|               0|               0|               0|               0|               0|               0|               0|               0|               0|               0|                       0.0|                      0.0|                       0.0|                      1.0|                      0.0|                       0.0|\n",
      "|    100015|     0|        Cash loans|          F|           N|              Y|           0|       38419.155|  148365.0|    10678.5|       135000.0|       Children|           Pensioner|Secondary / secon...|             Married|House / apartment|                  0.015221|    -20417|       365243|          -5246.0|          -2512|       null|         1|             0|              0|               1|         1|         0|           null|            2.0|                   2|                          2|                    FRIDAY|                      7|                         0|                         0|                          0|                     0|                     0|                      0|                 XNA| 0.7220444501416448| 0.5551831615131809| 0.6528965519806539|          null|            null|                       null|              null|          null|         null|         null|         null|         null|        null|                null|          null|                   null|             null|           null|             null|                        null|            null|           null|          null|          null|          null|          null|         null|                 null|           null|                    null|              null|           null|             null|                        null|              null|           null|          null|          null|          null|          null|         null|                 null|           null|                    null|              null|              null|          null|          null|              null|               null|                     0.0|                     0.0|                     0.0|                     0.0|               -2396.0|              0|              0|              0|              0|              1|              0|              0|              0|               0|               0|               0|               0|               0|               0|               0|               0|               0|               0|               0|               0|                       0.0|                      0.0|                       0.0|                      0.0|                      0.0|                       2.0|\n",
      "|    100016|     0|        Cash loans|          F|           N|              Y|           0|         67500.0|   80865.0|     5881.5|        67500.0|  Unaccompanied|             Working|Secondary / secon...|             Married|House / apartment|                  0.031329|    -13439|        -2717|           -311.0|          -3227|       null|         1|             1|              1|               1|         1|         0|       Laborers|            2.0|                   2|                          2|                    FRIDAY|                     10|                         0|                         0|                          0|                     0|                     0|                      0|Business Entity T...| 0.4648311169632833| 0.7150418188660659| 0.1766525794312139|        0.0825|            null|                     0.9811|              null|          null|          0.0|       0.2069|       0.1667|         null|      0.0135|                null|        0.0778|                   null|              0.0|          0.084|             null|                      0.9811|            null|           null|           0.0|        0.2069|        0.1667|          null|       0.0138|                 null|          0.081|                    null|               0.0|         0.0833|             null|                      0.9811|              null|           null|           0.0|        0.2069|        0.1667|          null|       0.0137|                 null|         0.0792|                    null|               0.0|  reg oper account|block of flats|        0.0612|              null|                 No|                     0.0|                     0.0|                     0.0|                     0.0|               -2370.0|              0|              1|              0|              0|              0|              0|              0|              0|               0|               0|               0|               0|               0|               0|               0|               0|               0|               0|               0|               0|                       0.0|                      0.0|                       0.0|                      1.0|                      0.0|                       0.0|\n",
      "|    100017|     0|        Cash loans|          M|           Y|              N|           1|        225000.0|  918468.0|    28966.5|       697500.0|  Unaccompanied|             Working|Secondary / secon...|             Married|House / apartment|      0.016612000000000002|    -14086|        -3028|           -643.0|          -4911|       23.0|         1|             1|              0|               1|         0|         0|        Drivers|            3.0|                   2|                          2|                  THURSDAY|                     13|                         0|                         0|                          0|                     0|                     0|                      0|       Self-employed|               null| 0.5669066132460429| 0.7700870700124128|        0.1474|          0.0973|                     0.9806|            0.7348|        0.0582|         0.16|       0.1379|       0.3333|        0.375|      0.0931|              0.1202|        0.1397|                    0.0|              0.0|         0.1502|            0.101|                      0.9806|          0.7452|         0.0587|        0.1611|        0.1379|        0.3333|         0.375|       0.0952|               0.1313|         0.1456|                     0.0|               0.0|         0.1489|           0.0973|                      0.9806|            0.7383|         0.0585|          0.16|        0.1379|        0.3333|         0.375|       0.0947|               0.1223|         0.1422|                     0.0|               0.0|  reg oper account|block of flats|        0.1417|             Panel|                 No|                     0.0|                     0.0|                     0.0|                     0.0|                  -4.0|              0|              1|              0|              0|              0|              0|              0|              0|               0|               0|               0|               0|               0|               0|               0|               0|               0|               0|               0|               0|                       0.0|                      0.0|                       0.0|                      0.0|                      0.0|                       1.0|\n",
      "|    100018|     0|        Cash loans|          F|           N|              Y|           0|        189000.0|  773680.5|    32778.0|       679500.0|  Unaccompanied|             Working|Secondary / secon...|             Married|House / apartment|      0.010006000000000001|    -14583|         -203|           -615.0|          -2056|       null|         1|             1|              0|               1|         0|         0|       Laborers|            2.0|                   2|                          1|                    MONDAY|                      9|                         0|                         0|                          0|                     0|                     0|                      0|   Transport: type 2| 0.7219397686622343| 0.6426562048311103|               null|        0.3495|          0.1335|                     0.9985|            0.9796|        0.1143|          0.4|       0.1724|       0.6667|       0.7083|      0.1758|              0.2849|        0.3774|                 0.0193|           0.1001|         0.3561|           0.1386|                      0.9985|          0.9804|         0.1153|        0.4028|        0.1724|        0.6667|        0.7083|       0.1798|               0.3113|         0.3932|                  0.0195|             0.106|         0.3529|           0.1335|                      0.9985|            0.9799|          0.115|           0.4|        0.1724|        0.6667|        0.7083|       0.1789|               0.2899|         0.3842|                  0.0194|            0.1022|  reg oper account|block of flats|        0.3811|             Panel|                 No|                     0.0|                     0.0|                     0.0|                     0.0|                -188.0|              0|              1|              0|              0|              0|              0|              0|              0|               0|               0|               0|               0|               0|               0|               0|               0|               0|               0|               0|               0|                      null|                     null|                      null|                     null|                     null|                      null|\n",
      "|    100019|     0|        Cash loans|          M|           Y|              Y|           0|        157500.0|  299772.0|    20160.0|       247500.0|         Family|             Working|Secondary / secon...|Single / not married| Rented apartment|                  0.020713|     -8728|        -1157|          -3494.0|          -1368|       17.0|         1|             1|              0|               1|         0|         0|       Laborers|            1.0|                   3|                          3|                  SATURDAY|                      6|                         0|                         0|                          0|                     1|                     1|                      0|Business Entity T...|0.11563433726229973|   0.34663398139668| 0.6785676886853644|          null|            null|                       null|              null|          null|         null|         null|         null|         null|        null|                null|          null|                   null|             null|           null|             null|                        null|            null|           null|          null|          null|          null|          null|         null|                 null|           null|                    null|              null|           null|             null|                        null|              null|           null|          null|          null|          null|          null|         null|                 null|           null|                    null|              null|              null|          null|          null|              null|               null|                     0.0|                     0.0|                     0.0|                     0.0|                -925.0|              0|              0|              0|              0|              0|              0|              1|              0|               0|               0|               0|               0|               0|               0|               0|               0|               0|               0|               0|               0|                       0.0|                      0.0|                       0.0|                      0.0|                      0.0|                       1.0|\n",
      "|    100020|     0|        Cash loans|          M|           N|              N|           0|        108000.0|  509602.5|    26149.5|       387000.0|  Unaccompanied|             Working|Secondary / secon...|             Married|House / apartment|                  0.018634|    -12931|        -1317|          -6392.0|          -3866|       null|         1|             1|              0|               1|         0|         0|        Drivers|            2.0|                   2|                          2|                  THURSDAY|                     12|                         0|                         0|                          0|                     1|                     1|                      0|          Government|               null| 0.2363778398884225|0.06210303783729682|          null|            null|                       null|              null|          null|         null|         null|         null|         null|        null|                null|          null|                   null|             null|           null|             null|                        null|            null|           null|          null|          null|          null|          null|         null|                 null|           null|                    null|              null|           null|             null|                        null|              null|           null|          null|          null|          null|          null|         null|                 null|           null|                    null|              null|              null|          null|          null|              null|               null|                     0.0|                     0.0|                     0.0|                     0.0|                  -3.0|              0|              1|              0|              0|              0|              0|              0|              0|               0|               0|               0|               0|               0|               0|               0|               0|               0|               0|               0|               0|                       0.0|                      0.0|                       0.0|                      0.0|                      1.0|                       0.0|\n",
      "|    100021|     0|   Revolving loans|          F|           N|              Y|           1|         81000.0|  270000.0|    13500.0|       270000.0|  Unaccompanied|             Working|Secondary / secon...|             Married|House / apartment|                  0.010966|     -9776|         -191|          -4143.0|          -2427|       null|         1|             1|              0|               1|         0|         0|       Laborers|            3.0|                   2|                          2|                    MONDAY|                     10|                         0|                         0|                          0|                     1|                     1|                      0|        Construction|               null| 0.6835133461914255|               null|          null|            null|                       null|              null|          null|         null|         null|         null|         null|        null|                null|          null|                   null|             null|           null|             null|                        null|            null|           null|          null|          null|          null|          null|         null|                 null|           null|                    null|              null|           null|             null|                        null|              null|           null|          null|          null|          null|          null|         null|                 null|           null|                    null|              null|              null|          null|          null|              null|               null|                     4.0|                     0.0|                     4.0|                     0.0|               -2811.0|              0|              0|              0|              0|              0|              0|              0|              0|               0|               0|               0|               0|               0|               0|               0|               0|               0|               0|               0|               0|                      null|                     null|                      null|                     null|                     null|                      null|\n",
      "|    100022|     0|   Revolving loans|          F|           N|              Y|           0|        112500.0|  157500.0|     7875.0|       157500.0|        Other_A|             Working|Secondary / secon...|               Widow|House / apartment|                   0.04622|    -17718|        -7804|          -8751.0|          -1259|       null|         1|             1|              0|               1|         1|         0|       Laborers|            1.0|                   1|                          1|                    FRIDAY|                     13|                         0|                         0|                          0|                     0|                     0|                      0|             Housing|               null| 0.7064284028871654| 0.5567274263630174|        0.0278|          0.0617|                     0.9881|            0.8368|        0.0018|          0.0|       0.1034|       0.0833|        0.125|      0.0279|              0.0227|         0.029|                    0.0|              0.0|         0.0284|            0.064|                      0.9881|          0.8432|         0.0018|           0.0|        0.1034|        0.0833|         0.125|       0.0286|               0.0248|         0.0302|                     0.0|               0.0|         0.0281|           0.0617|                      0.9881|0.8390000000000001|         0.0018|           0.0|        0.1034|        0.0833|         0.125|       0.0284|               0.0231|         0.0295|                     0.0|               0.0|  reg oper account|block of flats|        0.0238|      Stone, brick|                 No|                     8.0|                     0.0|                     8.0|                     0.0|                -239.0|              0|              1|              0|              0|              0|              0|              0|              0|               0|               0|               0|               0|               0|               0|               0|               0|               0|               0|               0|               0|                       0.0|                      0.0|                       0.0|                      0.0|                      0.0|                       0.0|\n",
      "|    100023|     0|        Cash loans|          F|           N|              Y|           1|         90000.0|  544491.0|    17563.5|       454500.0|  Unaccompanied|       State servant|    Higher education|Single / not married|House / apartment|                  0.015221|    -11348|        -2038|          -1021.0|          -3964|       null|         1|             1|              1|               1|         1|         0|     Core staff|            2.0|                   2|                          2|                    MONDAY|                     12|                         0|                         0|                          0|                     0|                     0|                      0|        Kindergarten|               null| 0.5866171400119664| 0.4776491548517548|          null|            null|                       null|              null|          null|         null|         null|         null|         null|        null|                null|          null|                   null|             null|           null|             null|                        null|            null|           null|          null|          null|          null|          null|         null|                 null|           null|                    null|              null|           null|             null|                        null|              null|           null|          null|          null|          null|          null|         null|                 null|           null|                    null|              null|              null|          null|          null|              null|               null|                     0.0|                     0.0|                     0.0|                     0.0|               -1850.0|              0|              1|              0|              0|              0|              0|              0|              0|               0|               0|               0|               0|               0|               0|               0|               0|               0|               0|               0|               0|                       0.0|                      0.0|                       0.0|                      0.0|                      0.0|                       2.0|\n",
      "+----------+------+------------------+-----------+------------+---------------+------------+----------------+----------+-----------+---------------+---------------+--------------------+--------------------+--------------------+-----------------+--------------------------+----------+-------------+-----------------+---------------+-----------+----------+--------------+---------------+----------------+----------+----------+---------------+---------------+--------------------+---------------------------+--------------------------+-----------------------+--------------------------+--------------------------+---------------------------+----------------------+----------------------+-----------------------+--------------------+-------------------+-------------------+-------------------+--------------+----------------+---------------------------+------------------+--------------+-------------+-------------+-------------+-------------+------------+--------------------+--------------+-----------------------+-----------------+---------------+-----------------+----------------------------+----------------+---------------+--------------+--------------+--------------+--------------+-------------+---------------------+---------------+------------------------+------------------+---------------+-----------------+----------------------------+------------------+---------------+--------------+--------------+--------------+--------------+-------------+---------------------+---------------+------------------------+------------------+------------------+--------------+--------------+------------------+-------------------+------------------------+------------------------+------------------------+------------------------+----------------------+---------------+---------------+---------------+---------------+---------------+---------------+---------------+---------------+----------------+----------------+----------------+----------------+----------------+----------------+----------------+----------------+----------------+----------------+----------------+----------------+--------------------------+-------------------------+--------------------------+-------------------------+-------------------------+--------------------------+\n",
      "only showing top 20 rows\n",
      "\n"
     ]
    }
   ],
   "source": [
    "app_train.show()"
   ]
  },
  {
   "cell_type": "code",
   "execution_count": null,
   "metadata": {
    "id": "fXB-3TV0QNhD"
   },
   "outputs": [],
   "source": []
  },
  {
   "cell_type": "code",
   "execution_count": null,
   "metadata": {
    "colab": {
     "base_uri": "https://localhost:8080/"
    },
    "id": "zroyCgU_QZlU",
    "outputId": "d242e505-8371-4817-beb9-f19b04ccc35b"
   },
   "outputs": [
    {
     "name": "stdout",
     "output_type": "stream",
     "text": [
      "+----------+------------+-------------+---------------+-----------+------------------+-------------------+-----------------+----------------------+------------------+--------------+-------------------+--------------------+----------------------+---------------+------------------+-----------+\n",
      "|SK_ID_CURR|SK_ID_BUREAU|CREDIT_ACTIVE|CREDIT_CURRENCY|DAYS_CREDIT|CREDIT_DAY_OVERDUE|DAYS_CREDIT_ENDDATE|DAYS_ENDDATE_FACT|AMT_CREDIT_MAX_OVERDUE|CNT_CREDIT_PROLONG|AMT_CREDIT_SUM|AMT_CREDIT_SUM_DEBT|AMT_CREDIT_SUM_LIMIT|AMT_CREDIT_SUM_OVERDUE|    CREDIT_TYPE|DAYS_CREDIT_UPDATE|AMT_ANNUITY|\n",
      "+----------+------------+-------------+---------------+-----------+------------------+-------------------+-----------------+----------------------+------------------+--------------+-------------------+--------------------+----------------------+---------------+------------------+-----------+\n",
      "|    215354|     5714462|       Closed|     currency 1|       -497|                 0|             -153.0|           -153.0|                  null|                 0|       91323.0|                0.0|                null|                   0.0|Consumer credit|              -131|       null|\n",
      "|    215354|     5714463|       Active|     currency 1|       -208|                 0|             1075.0|             null|                  null|                 0|      225000.0|           171342.0|                null|                   0.0|    Credit card|               -20|       null|\n",
      "|    215354|     5714464|       Active|     currency 1|       -203|                 0|              528.0|             null|                  null|                 0|      464323.5|               null|                null|                   0.0|Consumer credit|               -16|       null|\n",
      "|    215354|     5714465|       Active|     currency 1|       -203|                 0|               null|             null|                  null|                 0|       90000.0|               null|                null|                   0.0|    Credit card|               -16|       null|\n",
      "|    215354|     5714466|       Active|     currency 1|       -629|                 0|             1197.0|             null|               77674.5|                 0|     2700000.0|               null|                null|                   0.0|Consumer credit|               -21|       null|\n",
      "|    215354|     5714467|       Active|     currency 1|       -273|                 0|            27460.0|             null|                   0.0|                 0|      180000.0|           71017.38|           108982.62|                   0.0|    Credit card|               -31|       null|\n",
      "|    215354|     5714468|       Active|     currency 1|        -43|                 0|               79.0|             null|                   0.0|                 0|       42103.8|            42103.8|                 0.0|                   0.0|Consumer credit|               -22|       null|\n",
      "|    162297|     5714469|       Closed|     currency 1|      -1896|                 0|            -1684.0|          -1710.0|               14985.0|                 0|      76878.45|                0.0|                 0.0|                   0.0|Consumer credit|             -1710|       null|\n",
      "|    162297|     5714470|       Closed|     currency 1|      -1146|                 0|             -811.0|           -840.0|                   0.0|                 0|      103007.7|                0.0|                 0.0|                   0.0|Consumer credit|              -840|       null|\n",
      "|    162297|     5714471|       Active|     currency 1|      -1146|                 0|             -484.0|             null|                   0.0|                 0|        4500.0|                0.0|                 0.0|                   0.0|    Credit card|              -690|       null|\n",
      "|    162297|     5714472|       Active|     currency 1|      -1146|                 0|             -180.0|             null|                   0.0|                 0|      337500.0|                0.0|                 0.0|                   0.0|    Credit card|              -690|       null|\n",
      "|    162297|     5714473|       Closed|     currency 1|      -2456|                 0|             -629.0|           -825.0|                  null|                 0|      675000.0|                0.0|                 0.0|                   0.0|Consumer credit|              -706|       null|\n",
      "|    162297|     5714474|       Active|     currency 1|       -277|                 0|             5261.0|             null|                   0.0|                 0|     7033500.0|               null|                null|                   0.0|       Mortgage|               -31|       null|\n",
      "|    402440|     5714475|       Active|     currency 1|        -96|                 0|              269.0|             null|                   0.0|                 0|       89910.0|            76905.0|                 0.0|                   0.0|Consumer credit|               -22|       null|\n",
      "|    238881|     5714482|       Closed|     currency 1|       -318|                 0|             -187.0|           -187.0|                  null|                 0|           0.0|                0.0|                 0.0|                   0.0|    Credit card|              -185|       null|\n",
      "|    238881|     5714484|       Closed|     currency 1|      -2911|                 0|            -2607.0|          -2604.0|                  null|                 0|       48555.0|               null|                null|                   0.0|Consumer credit|             -2601|       null|\n",
      "|    238881|     5714485|       Closed|     currency 1|      -2148|                 0|            -1595.0|           -987.0|                  null|                 0|      135000.0|               null|                null|                   0.0|Consumer credit|              -984|       null|\n",
      "|    238881|     5714486|       Active|     currency 1|       -381|                 0|               null|             null|                  null|                 0|      450000.0|           520920.0|                null|                   0.0|Consumer credit|                -4|       null|\n",
      "|    238881|     5714487|       Active|     currency 1|        -95|                 0|             1720.0|             null|                  null|                 0|       67500.0|             8131.5|                null|                   0.0|    Credit card|                -7|       null|\n",
      "|    238881|     5714488|       Closed|     currency 1|       -444|                 0|              -77.0|            -77.0|                   0.0|                 0|     107184.06|                0.0|                 0.0|                   0.0|Consumer credit|               -71|       null|\n",
      "+----------+------------+-------------+---------------+-----------+------------------+-------------------+-----------------+----------------------+------------------+--------------+-------------------+--------------------+----------------------+---------------+------------------+-----------+\n",
      "only showing top 20 rows\n",
      "\n"
     ]
    }
   ],
   "source": [
    "bureau.show()"
   ]
  },
  {
   "cell_type": "code",
   "execution_count": null,
   "metadata": {
    "colab": {
     "base_uri": "https://localhost:8080/"
    },
    "id": "soyy2MInQbBa",
    "outputId": "752970b7-d3bd-43ae-9402-3f8aa36b60fe"
   },
   "outputs": [
    {
     "name": "stdout",
     "output_type": "stream",
     "text": [
      "root\n",
      " |-- SK_ID_CURR: integer (nullable = true)\n",
      " |-- SK_ID_BUREAU: integer (nullable = true)\n",
      " |-- CREDIT_ACTIVE: string (nullable = true)\n",
      " |-- CREDIT_CURRENCY: string (nullable = true)\n",
      " |-- DAYS_CREDIT: integer (nullable = true)\n",
      " |-- CREDIT_DAY_OVERDUE: integer (nullable = true)\n",
      " |-- DAYS_CREDIT_ENDDATE: double (nullable = true)\n",
      " |-- DAYS_ENDDATE_FACT: double (nullable = true)\n",
      " |-- AMT_CREDIT_MAX_OVERDUE: double (nullable = true)\n",
      " |-- CNT_CREDIT_PROLONG: integer (nullable = true)\n",
      " |-- AMT_CREDIT_SUM: double (nullable = true)\n",
      " |-- AMT_CREDIT_SUM_DEBT: double (nullable = true)\n",
      " |-- AMT_CREDIT_SUM_LIMIT: double (nullable = true)\n",
      " |-- AMT_CREDIT_SUM_OVERDUE: double (nullable = true)\n",
      " |-- CREDIT_TYPE: string (nullable = true)\n",
      " |-- DAYS_CREDIT_UPDATE: integer (nullable = true)\n",
      " |-- AMT_ANNUITY: double (nullable = true)\n",
      "\n"
     ]
    }
   ],
   "source": [
    "bureau.printSchema()"
   ]
  },
  {
   "cell_type": "code",
   "execution_count": null,
   "metadata": {
    "colab": {
     "base_uri": "https://localhost:8080/"
    },
    "id": "StaNqaMmQjOE",
    "outputId": "2d080bb2-9d30-4b58-f3a8-bbcd050b6347"
   },
   "outputs": [
    {
     "name": "stdout",
     "output_type": "stream",
     "text": [
      "+----------+------------+-------------+---------------+-----------+------------------+-------------------+-----------------+----------------------+------------------+--------------+-------------------+--------------------+----------------------+---------------+------------------+-----------+\n",
      "|SK_ID_CURR|SK_ID_BUREAU|CREDIT_ACTIVE|CREDIT_CURRENCY|DAYS_CREDIT|CREDIT_DAY_OVERDUE|DAYS_CREDIT_ENDDATE|DAYS_ENDDATE_FACT|AMT_CREDIT_MAX_OVERDUE|CNT_CREDIT_PROLONG|AMT_CREDIT_SUM|AMT_CREDIT_SUM_DEBT|AMT_CREDIT_SUM_LIMIT|AMT_CREDIT_SUM_OVERDUE|    CREDIT_TYPE|DAYS_CREDIT_UPDATE|AMT_ANNUITY|\n",
      "+----------+------------+-------------+---------------+-----------+------------------+-------------------+-----------------+----------------------+------------------+--------------+-------------------+--------------------+----------------------+---------------+------------------+-----------+\n",
      "|    100002|     6158904|       Closed|     currency 1|      -1125|                 0|            -1038.0|          -1038.0|                  null|                 0|       40761.0|               null|                null|                   0.0|    Credit card|             -1038|        0.0|\n",
      "|    100002|     6158905|       Closed|     currency 1|       -476|                 0|               null|            -48.0|                  null|                 0|           0.0|                0.0|                null|                   0.0|    Credit card|               -47|       null|\n",
      "|    100002|     6158906|       Closed|     currency 1|      -1437|                 0|            -1072.0|          -1185.0|                   0.0|                 0|      135000.0|                0.0|                 0.0|                   0.0|Consumer credit|             -1185|        0.0|\n",
      "|    100002|     6158907|       Closed|     currency 1|      -1121|                 0|             -911.0|           -911.0|                3321.0|                 0|       19071.0|               null|                null|                   0.0|Consumer credit|              -906|        0.0|\n",
      "|    100002|     6158908|       Closed|     currency 1|       -645|                 0|               85.0|            -36.0|              5043.645|                 0|      120735.0|                0.0|                 0.0|                   0.0|Consumer credit|               -34|        0.0|\n",
      "|    100002|     6158909|       Active|     currency 1|       -103|                 0|               null|             null|                  40.5|                 0|     31988.565|                0.0|           31988.565|                   0.0|    Credit card|               -24|        0.0|\n",
      "|    100002|     6158903|       Active|     currency 1|      -1042|                 0|              780.0|             null|                  null|                 0|      450000.0|           245781.0|                 0.0|                   0.0|Consumer credit|                -7|        0.0|\n",
      "|    100002|     6113835|       Closed|     currency 1|      -1043|                 0|               62.0|           -967.0|                   0.0|                 0|       67500.0|               null|                null|                   0.0|    Credit card|              -758|        0.0|\n",
      "+----------+------------+-------------+---------------+-----------+------------------+-------------------+-----------------+----------------------+------------------+--------------+-------------------+--------------------+----------------------+---------------+------------------+-----------+\n",
      "\n"
     ]
    }
   ],
   "source": [
    "spark.sql(\"\"\"\n",
    "            select \n",
    "              *\n",
    "            from \n",
    "              bureau\n",
    "            where \n",
    "            SK_ID_CURR = 100002\n",
    "\"\"\").show()"
   ]
  },
  {
   "cell_type": "code",
   "execution_count": null,
   "metadata": {
    "colab": {
     "base_uri": "https://localhost:8080/"
    },
    "id": "-mZBL77kQ1tI",
    "outputId": "30c85278-ca94-4bfc-9c22-39937f4db001"
   },
   "outputs": [
    {
     "data": {
      "text/plain": [
       "['CREDIT_ACTIVE', 'CREDIT_CURRENCY', 'CREDIT_TYPE']"
      ]
     },
     "execution_count": 28,
     "metadata": {},
     "output_type": "execute_result"
    }
   ],
   "source": [
    "string_list = [item[0] for item in bureau.dtypes if item[1].startswith('string')]\n",
    "string_list"
   ]
  },
  {
   "cell_type": "markdown",
   "metadata": {
    "id": "VipvHN4RRgiB"
   },
   "source": [
    "#Avaliando variaveis do tipo string na tabela bureau"
   ]
  },
  {
   "cell_type": "markdown",
   "metadata": {
    "id": "dIAK9d2xRlh9"
   },
   "source": [
    "# 1) CREDIT_ACTIVE\n",
    "Situação dos créditos reportados pelo Credit Bureau (CB)"
   ]
  },
  {
   "cell_type": "code",
   "execution_count": null,
   "metadata": {
    "colab": {
     "base_uri": "https://localhost:8080/"
    },
    "id": "EajAE-ZeRO4o",
    "outputId": "995a4760-ba42-4803-f664-47b86bc90c8c"
   },
   "outputs": [
    {
     "name": "stdout",
     "output_type": "stream",
     "text": [
      "+-------------+-------+\n",
      "|CREDIT_ACTIVE| Volume|\n",
      "+-------------+-------+\n",
      "|       Closed|1079273|\n",
      "|       Active| 630607|\n",
      "|         Sold|   6527|\n",
      "|     Bad debt|     21|\n",
      "+-------------+-------+\n",
      "\n"
     ]
    }
   ],
   "source": [
    "spark.sql(\"\"\"\n",
    "            select \n",
    "              CREDIT_ACTIVE,\n",
    "              count(*) as Volume\n",
    " \n",
    "            from \n",
    "              bureau\n",
    "            group by \n",
    "              CREDIT_ACTIVE\n",
    "            order by \n",
    "              volume desc\n",
    "\"\"\").show()"
   ]
  },
  {
   "cell_type": "markdown",
   "metadata": {
    "id": "mWFzH2ngT2Dw"
   },
   "source": [
    "- Credito fechado é credito pago?\n",
    "- baixo numero de incobraveis, o arquivo ta na casa de milhões, esses dados poderiam ser esxcluidos por nao inferirem em nada no negocio?"
   ]
  },
  {
   "cell_type": "markdown",
   "metadata": {
    "id": "SfzGFSpvRgBy"
   },
   "source": [
    "# 2) CREDIT_CURRENCY \n",
    "Moeda recodificado do crédito do Bureau de Crédito"
   ]
  },
  {
   "cell_type": "code",
   "execution_count": null,
   "metadata": {
    "colab": {
     "base_uri": "https://localhost:8080/"
    },
    "id": "tHBhhbo4S60N",
    "outputId": "5b41a3d4-2ac1-438c-8daf-3ab941b8aecd"
   },
   "outputs": [
    {
     "name": "stdout",
     "output_type": "stream",
     "text": [
      "+---------------+-------+\n",
      "|CREDIT_CURRENCY| Volume|\n",
      "+---------------+-------+\n",
      "|     currency 1|1715020|\n",
      "|     currency 2|   1224|\n",
      "|     currency 3|    174|\n",
      "|     currency 4|     10|\n",
      "+---------------+-------+\n",
      "\n"
     ]
    }
   ],
   "source": [
    " spark.sql(\"\"\"\n",
    "            select \n",
    "              CREDIT_CURRENCY,\n",
    "              count(*) as Volume\n",
    " \n",
    "            from \n",
    "              bureau\n",
    "            group by \n",
    "              CREDIT_CURRENCY\n",
    "            order by \n",
    "              volume desc\n",
    "\"\"\").show()"
   ]
  },
  {
   "cell_type": "markdown",
   "metadata": {
    "id": "Glg3i8f7UTJE"
   },
   "source": [
    "- currency 1? muito volume, nada explicativo?\n",
    "- Pensando que a tabela tem milhoes de linha, essas ocorrencias pouco volumosas poderiam ser exlcuidas?"
   ]
  },
  {
   "cell_type": "markdown",
   "metadata": {
    "id": "2_20IXimS6m0"
   },
   "source": [
    "## 3) CREDIT_TYPE \n",
    "Tipo de crédito da Agência de Crédito (Carro, dinheiro,...)"
   ]
  },
  {
   "cell_type": "code",
   "execution_count": null,
   "metadata": {
    "colab": {
     "base_uri": "https://localhost:8080/"
    },
    "id": "ctjwVunQS6M6",
    "outputId": "64e7c867-13c5-4369-a026-a35fa893c095"
   },
   "outputs": [
    {
     "name": "stdout",
     "output_type": "stream",
     "text": [
      "+--------------------+-------+\n",
      "|         CREDIT_TYPE| Volume|\n",
      "+--------------------+-------+\n",
      "|     Consumer credit|1251615|\n",
      "|         Credit card| 402195|\n",
      "|            Car loan|  27690|\n",
      "|            Mortgage|  18391|\n",
      "|           Microloan|  12413|\n",
      "|Loan for business...|   1975|\n",
      "|Another type of loan|   1017|\n",
      "|Unknown type of loan|    555|\n",
      "|Loan for working ...|    469|\n",
      "|Cash loan (non-ea...|     56|\n",
      "|    Real estate loan|     27|\n",
      "|Loan for the purc...|     19|\n",
      "|Loan for purchase...|      4|\n",
      "|Mobile operator loan|      1|\n",
      "|    Interbank credit|      1|\n",
      "+--------------------+-------+\n",
      "\n"
     ]
    }
   ],
   "source": [
    " spark.sql(\"\"\"\n",
    "             select \n",
    "              CREDIT_TYPE,\n",
    "              count(*) as Volume\n",
    " \n",
    "            from \n",
    "              bureau\n",
    "            group by \n",
    "              CREDIT_TYPE\n",
    "            order by \n",
    "              volume desc\n",
    "\"\"\").show()"
   ]
  },
  {
   "cell_type": "markdown",
   "metadata": {
    "id": "TzngG7HgUuy1"
   },
   "source": [
    "- Grande tendencia do credito de consumo\n",
    "- Talvez um bom ponto para estudo de caso \"qual segmento cresce no mercado de credito\""
   ]
  },
  {
   "cell_type": "markdown",
   "metadata": {
    "id": "13mKDrDPmllO"
   },
   "source": [
    "#Indicadores preditivos (Variaveis Explicativas)\n",
    " variáveis que explicam um determinado fenômeno, neste caso explicam a probabilidade de quitação de um empréstimo da modalidade imobiliária"
   ]
  },
  {
   "cell_type": "code",
   "execution_count": null,
   "metadata": {
    "colab": {
     "base_uri": "https://localhost:8080/"
    },
    "id": "zuk9Td9_sa3o",
    "outputId": "5ce97df6-a978-4742-ea23-7e772861d980"
   },
   "outputs": [
    {
     "data": {
      "text/plain": [
       "219"
      ]
     },
     "execution_count": 32,
     "metadata": {},
     "output_type": "execute_result"
    }
   ],
   "source": [
    "metadados = spark.read.csv(\"/content/drive/MyDrive/LAMIA/projeto_final/dados/InputData/HomeCredit_columns_description.csv\", inferSchema=True, header=True)\n",
    " \n",
    "metadados.registerTempTable('metadados')\n",
    " \n",
    "metadados.count()"
   ]
  },
  {
   "cell_type": "code",
   "execution_count": null,
   "metadata": {
    "colab": {
     "base_uri": "https://localhost:8080/"
    },
    "id": "OCXy1daVtvrT",
    "outputId": "b0f3f0a9-2b01-4c60-f3a0-000856fb38ae"
   },
   "outputs": [
    {
     "name": "stdout",
     "output_type": "stream",
     "text": [
      "+---+----------+----------------------+------------------------------------------------------------------------------------------------------------------------------------------------+-------------------------------------+\n",
      "|_c0|Table     |Row                   |Description                                                                                                                                     |Special                              |\n",
      "+---+----------+----------------------+------------------------------------------------------------------------------------------------------------------------------------------------+-------------------------------------+\n",
      "|122|bureau.csv|SK_ID_CURR            |ID do empréstimo em nossa amostra - um empréstimo em nossa amostra pode ter 0,1,2 ou mais créditos anteriores relacionados na agência de crédito|hashed                               |\n",
      "|123|bureau.csv|SK_BUREAU_ID          |ID recodificado do crédito anterior do Credit Bureau relacionado ao nosso empréstimo (codificação exclusiva para cada solicitação de empréstimo)|hashed                               |\n",
      "|124|bureau.csv|CREDIT_ACTIVE         |Situação dos créditos reportados pelo Credit Bureau (CB)                                                                                        |null                                 |\n",
      "|125|bureau.csv|CREDIT_CURRENCY       |Moeda recodificado do crédito do Bureau de Crédito                                                                                              |recoded                              |\n",
      "|126|bureau.csv|DAYS_CREDIT           |Quantos dias antes do pedido atual o cliente solicitou crédito do Bureau de Crédito                                                             |time only relative to the application|\n",
      "|127|bureau.csv|CREDIT_DAY_OVERDUE    |Número de dias em atraso no crédito CB no momento da solicitação do empréstimo relacionado em nossa amostra                                     |null                                 |\n",
      "|128|bureau.csv|DAYS_CREDIT_ENDDATE   |Duração restante do crédito CB (em dias) no momento da aplicação no Crédito à Habitação                                                         |time only relative to the application|\n",
      "|129|bureau.csv|DAYS_ENDDATE_FACT     |Dias desde que o crédito CB terminou no momento da aplicação no Crédito à Habitação (apenas para crédito fechado)                               |time only relative to the application|\n",
      "|130|bureau.csv|AMT_CREDIT_MAX_OVERDUE|Valor máximo em atraso no crédito do Bureau de Crédito até o momento (na data de solicitação do empréstimo em nossa amostra)                    |null                                 |\n",
      "|131|bureau.csv|CNT_CREDIT_PROLONG    |Quantas vezes o crédito do Bureau de Crédito foi prolongado                                                                                     |null                                 |\n",
      "|132|bureau.csv|AMT_CREDIT_SUM        |Valor de crédito atual para o crédito do Bureau de Crédito                                                                                      |null                                 |\n",
      "|133|bureau.csv|AMT_CREDIT_SUM_DEBT   |Dívida atual sobre crédito do Bureau de Crédito                                                                                                 |null                                 |\n",
      "|134|bureau.csv|AMT_CREDIT_SUM_LIMIT  |Limite de crédito atual do cartão de crédito informado no Credit Bureau                                                                         |null                                 |\n",
      "|135|bureau.csv|AMT_CREDIT_SUM_OVERDUE|Valor atual vencido no crédito do Bureau de Crédito                                                                                             |null                                 |\n",
      "|136|bureau.csv|CREDIT_TYPE           |Tipo de crédito da Agência de Crédito (Carro, dinheiro,...)                                                                                     |null                                 |\n",
      "|137|bureau.csv|DAYS_CREDIT_UPDATE    |Quantos dias antes do pedido de empréstimo veio a última informação sobre o crédito do Bureau de Crédito                                        |time only relative to the application|\n",
      "|138|bureau.csv|AMT_ANNUITY           |Anuidade do crédito do Bureau de Crédito                                                                                                        |null                                 |\n",
      "+---+----------+----------------------+------------------------------------------------------------------------------------------------------------------------------------------------+-------------------------------------+\n",
      "\n"
     ]
    }
   ],
   "source": [
    "spark.sql(\"\"\"\n",
    "        select \n",
    "          *\n",
    "        from \n",
    "        \n",
    "          metadados\n",
    "    \n",
    "        where Table = 'bureau.csv'\n",
    "\n",
    "\"\"\").show(100,False)"
   ]
  },
  {
   "cell_type": "code",
   "execution_count": null,
   "metadata": {
    "colab": {
     "base_uri": "https://localhost:8080/"
    },
    "id": "cUNapvSQqRIA",
    "outputId": "80ebcc79-73d1-4b86-8755-0ddf509c9399"
   },
   "outputs": [
    {
     "data": {
      "text/plain": [
       "['SK_ID_CURR',\n",
       " 'SK_ID_BUREAU',\n",
       " 'DAYS_CREDIT',\n",
       " 'CREDIT_DAY_OVERDUE',\n",
       " 'DAYS_CREDIT_ENDDATE',\n",
       " 'DAYS_ENDDATE_FACT',\n",
       " 'AMT_CREDIT_MAX_OVERDUE',\n",
       " 'CNT_CREDIT_PROLONG',\n",
       " 'AMT_CREDIT_SUM',\n",
       " 'AMT_CREDIT_SUM_DEBT',\n",
       " 'AMT_CREDIT_SUM_LIMIT',\n",
       " 'AMT_CREDIT_SUM_OVERDUE',\n",
       " 'DAYS_CREDIT_UPDATE',\n",
       " 'AMT_ANNUITY']"
      ]
     },
     "execution_count": 34,
     "metadata": {},
     "output_type": "execute_result"
    }
   ],
   "source": [
    " numeric_list = [item[0] for item in bureau.dtypes if not item[1].startswith('string')]\n",
    " numeric_list\n"
   ]
  },
  {
   "cell_type": "markdown",
   "metadata": {
    "id": "uayZg9QvwBhK"
   },
   "source": []
  },
  {
   "cell_type": "code",
   "execution_count": null,
   "metadata": {
    "colab": {
     "base_uri": "https://localhost:8080/"
    },
    "id": "H4hGE8omunGZ",
    "outputId": "05c42124-0fd5-4c9c-ed4a-c85e6c25fe82"
   },
   "outputs": [
    {
     "name": "stdout",
     "output_type": "stream",
     "text": [
      "+-------------+\n",
      "|CREDIT_ACTIVE|\n",
      "+-------------+\n",
      "|     Bad debt|\n",
      "|         Sold|\n",
      "|       Active|\n",
      "|       Closed|\n",
      "+-------------+\n",
      "\n"
     ]
    }
   ],
   "source": [
    "spark.sql(\"\"\"select distinct CREDIT_ACTIVE from bureau\"\"\").show()"
   ]
  },
  {
   "cell_type": "markdown",
   "metadata": {
    "id": "CRWGRv1u0bom"
   },
   "source": [
    "# **VAR**: AMT_CREDIT_SUM_LIMIT\n",
    "**Variavel**: Media do limite dos cartões de credito do cliente bureau   \n",
    "**Feature bureau**: Limite de crédito atual do cartão de crédito informado no Credit Bureau"
   ]
  },
  {
   "cell_type": "code",
   "execution_count": null,
   "metadata": {
    "colab": {
     "base_uri": "https://localhost:8080/"
    },
    "id": "Sw4a2pPMyRaB",
    "outputId": "1cff7553-00cb-4d2e-9650-bfdcffe131e5"
   },
   "outputs": [
    {
     "data": {
      "text/plain": [
       "305811"
      ]
     },
     "execution_count": 36,
     "metadata": {},
     "output_type": "execute_result"
    }
   ],
   "source": [
    "df_bureau_02 = spark.sql(\"\"\"\n",
    "            select \n",
    "                 SK_ID_CURR,\n",
    "                 round(avg(AMT_CREDIT_SUM_LIMIT),2) as AVG_CREDIT_LIMIT\n",
    "            from \n",
    "              bureau\n",
    "            group by \n",
    "              SK_ID_CURR\n",
    "\"\"\")\n",
    "df_bureau_02.registerTempTable('df_bureau_02')\n",
    " \n",
    "df_bureau_02.count()"
   ]
  },
  {
   "cell_type": "markdown",
   "metadata": {
    "id": "PJRUZFBD1zwM"
   },
   "source": [
    "Mais uma agregação, esta variavel é a media do limite de cartão de credito deste cliente, tem uma importancia na hora de ver se é inadimplente ou não, tendo em vista que outras empresas tambem ja emprestaram crtedito a este cliente"
   ]
  },
  {
   "cell_type": "markdown",
   "metadata": {
    "id": "C1j4lilr1y7W"
   },
   "source": [
    "# **VAR**: AMT_CREDIT_SUM_DEBT \n",
    "**Variavel**: media de dividas sobre credito   \n",
    "**Feature bureau**: Dívida atual sobre crédito do Bureau de Crédito"
   ]
  },
  {
   "cell_type": "code",
   "execution_count": null,
   "metadata": {
    "colab": {
     "base_uri": "https://localhost:8080/"
    },
    "id": "1Yw9fDEY1Ts3",
    "outputId": "c2378468-821a-49a3-b06e-ae3b4eebeffa"
   },
   "outputs": [
    {
     "data": {
      "text/plain": [
       "305811"
      ]
     },
     "execution_count": 37,
     "metadata": {},
     "output_type": "execute_result"
    }
   ],
   "source": [
    "df_bureau_03 = spark.sql(\"\"\"\n",
    "            select \n",
    "                 SK_ID_CURR,\n",
    "                 round(avg(AMT_CREDIT_SUM_DEBT),2) as AMT_CREDIT_DEBT\n",
    "            from \n",
    "              bureau\n",
    "            group by \n",
    "              SK_ID_CURR\n",
    "\"\"\")\n",
    "df_bureau_03.registerTempTable('df_bureau_03')\n",
    " \n",
    "df_bureau_03.count()"
   ]
  },
  {
   "cell_type": "code",
   "execution_count": null,
   "metadata": {
    "colab": {
     "base_uri": "https://localhost:8080/"
    },
    "id": "O9UDnf_B2mg9",
    "outputId": "d676d51d-3562-4c25-d28c-bc7eae8e68b1"
   },
   "outputs": [
    {
     "name": "stdout",
     "output_type": "stream",
     "text": [
      "+----------+---------------+\n",
      "|SK_ID_CURR|AMT_CREDIT_DEBT|\n",
      "+----------+---------------+\n",
      "|    100002|        49156.2|\n",
      "+----------+---------------+\n",
      "\n"
     ]
    }
   ],
   "source": [
    "spark.sql(\"\"\" select * from df_bureau_03 where SK_ID_CURR = 100002\"\"\").show()"
   ]
  },
  {
   "cell_type": "markdown",
   "metadata": {
    "id": "TdwM4os620Pt"
   },
   "source": [
    "Mais uma agregação, este por exemplo é o limite utilizado, ou a divida de credito que o cliente tem, este cliente tem quase 50 mil em dividas mais ainda tem aquilo tudo de debito?"
   ]
  },
  {
   "cell_type": "markdown",
   "metadata": {
    "id": "Ghd3LBv715Uq"
   },
   "source": [
    "# TABELA GERAL COM VARS EXPLICATIVAS SOBRE O **CREDICT_ATIVE**"
   ]
  },
  {
   "cell_type": "code",
   "execution_count": null,
   "metadata": {
    "colab": {
     "base_uri": "https://localhost:8080/"
    },
    "id": "cQ7G_34f1-SN",
    "outputId": "7724f5da-4d37-4913-cd6c-ce0fb6e0cf38"
   },
   "outputs": [
    {
     "data": {
      "text/plain": [
       "305811"
      ]
     },
     "execution_count": 39,
     "metadata": {},
     "output_type": "execute_result"
    }
   ],
   "source": [
    "df_bureau_01 = spark.sql(\"\"\"\n",
    "            select \n",
    "                 SK_ID_CURR,\n",
    "                 round(avg(abs(DAYS_CREDIT)),2) as AVG_DAYS_CREDIT,\n",
    "                 round(avg(case when CREDIT_ACTIVE in ('Active') then abs(DAYS_CREDIT) else 0 end),2) as AVG_CRED_ACTV_ACTIVE,\n",
    "                 round(avg(case when CREDIT_ACTIVE in ('Closed') then abs(DAYS_CREDIT) else 0 end),2) as AVG_CRED_ACTV_CLOSED,\n",
    "                 round(avg(case when CREDIT_ACTIVE in ('Sold') then abs(DAYS_CREDIT) else 0 end),2) as AVG_CRED_ACTV_SOLD,\n",
    "                 round(avg(case when CREDIT_ACTIVE in ('Bad debt') then abs(DAYS_CREDIT) else 0 end),2) as AVG_CRED_ACTV_BADDBT,\n",
    "\n",
    "                 round(sum(abs(DAYS_CREDIT)),2) as SUM_DAYS_CREDIT,\n",
    "                 round(sum(case when CREDIT_ACTIVE in ('Active') then abs(DAYS_CREDIT) else 0 end),2) as SUM_CRED_ACTV_ACTIVE,\n",
    "                 round(sum(case when CREDIT_ACTIVE in ('Closed') then abs(DAYS_CREDIT) else 0 end),2) as SUM_CRED_ACTV_CLOSED,\n",
    "                 round(sum(case when CREDIT_ACTIVE in ('Sold') then abs(DAYS_CREDIT) else 0 end),2) as SUM_CRED_ACTV_SOLD,\n",
    "                 round(sum(case when CREDIT_ACTIVE in ('Bad debt') then abs(DAYS_CREDIT) else 0 end),2) as SUM_CRED_ACTV_BADDBT,\n",
    "\n",
    "                 round(avg(AMT_CREDIT_SUM_LIMIT),2) as AVG_CREDIT_LIMIT,\n",
    "                 round(avg(AMT_CREDIT_SUM_DEBT),2) as  SUM_AMT_CREDIT_DEBT\n",
    "            from \n",
    "              bureau\n",
    "            group by \n",
    "              SK_ID_CURR\n",
    "\"\"\")\n",
    "df_bureau_01.registerTempTable('df_bureau_01')\n",
    " \n",
    "df_bureau_01.count()"
   ]
  },
  {
   "cell_type": "code",
   "execution_count": null,
   "metadata": {
    "colab": {
     "base_uri": "https://localhost:8080/"
    },
    "id": "8j4AdLNg53Lz",
    "outputId": "f41e382b-2e95-4cb1-c11d-63cbfdc82533"
   },
   "outputs": [
    {
     "name": "stdout",
     "output_type": "stream",
     "text": [
      "+----------+---------------+--------------------+--------------------+------------------+--------------------+---------------+--------------------+--------------------+------------------+--------------------+---------------+--------------------+--------------------+------------------+--------------------+----------------+-------------------+\n",
      "|SK_ID_CURR|AVG_DAYS_CREDIT|AVG_CRED_ACTV_ACTIVE|AVG_CRED_ACTV_CLOSED|AVG_CRED_ACTV_SOLD|AVG_CRED_ACTV_BADDBT|SUM_DAYS_CREDIT|SUM_CRED_ACTV_ACTIVE|SUM_CRED_ACTV_CLOSED|SUM_CRED_ACTV_SOLD|SUM_CRED_ACTV_BADDBT|MIN_DAYS_CREDIT|MIN_CRED_ACTV_ACTIVE|MIN_CRED_ACTV_CLOSED|MIN_CRED_ACTV_SOLD|MIN_CRED_ACTV_BADDBT|AVG_CREDIT_LIMIT|SUM_AMT_CREDIT_DEBT|\n",
      "+----------+---------------+--------------------+--------------------+------------------+--------------------+---------------+--------------------+--------------------+------------------+--------------------+---------------+--------------------+--------------------+------------------+--------------------+----------------+-------------------+\n",
      "|    341504|          283.5|               283.5|                 0.0|               0.0|                 0.0|            567|                 567|                   0|                 0|                   0|            282|                 282|                   0|                 0|                   0|             0.0|          195049.62|\n",
      "|    197603|        1916.43|                 0.0|             1916.43|               0.0|                 0.0|          13415|                   0|               13415|                 0|                   0|            594|                   0|                 594|                 0|                   0|             0.0|                0.0|\n",
      "|    330299|         1645.0|               76.47|             1568.53|               0.0|                 0.0|          24675|                1147|               23528|                 0|                   0|             98|                   0|                   0|                 0|                   0|             0.0|            8640.96|\n",
      "|    355377|         1540.0|              111.89|             1428.11|               0.0|                 0.0|          13860|                1007|               12853|                 0|                   0|            859|                   0|                   0|                 0|                   0|             0.0|           43068.21|\n",
      "|    454739|        1215.86|              235.43|              980.43|               0.0|                 0.0|           8511|                1648|                6863|                 0|                   0|            157|                   0|                   0|                 0|                   0|             0.0|            29832.0|\n",
      "|    295286|        1264.89|              112.33|             1152.56|               0.0|                 0.0|          11384|                1011|               10373|                 0|                   0|            212|                   0|                   0|                 0|                   0|             0.0|           174240.9|\n",
      "|    192082|        1451.21|               93.54|             1357.67|               0.0|                 0.0|          34829|                2245|               32584|                 0|                   0|            199|                   0|                   0|                 0|                   0|             0.0|            69687.2|\n",
      "|    109608|         504.33|               73.33|               431.0|               0.0|                 0.0|           1513|                 220|                1293|                 0|                   0|             40|                   0|                   0|                 0|                   0|             0.0|                0.0|\n",
      "|    375705|         896.75|              155.75|               741.0|               0.0|                 0.0|           3587|                 623|                2964|                 0|                   0|            623|                   0|                   0|                 0|                   0|             0.0|                0.0|\n",
      "|    380065|         638.67|              136.33|              502.33|               0.0|                 0.0|           1916|                 409|                1507|                 0|                   0|            409|                   0|                   0|                 0|                   0|             0.0|                0.0|\n",
      "|    416191|         1429.0|                 0.0|              1429.0|               0.0|                 0.0|           4287|                   0|                4287|                 0|                   0|            640|                   0|                 640|                 0|                   0|             0.0|                0.0|\n",
      "|    162260|         1507.4|               307.8|              1199.6|               0.0|                 0.0|           7537|                1539|                5998|                 0|                   0|            185|                   0|                   0|                 0|                   0|             0.0|          2088045.9|\n",
      "|    166160|          856.0|               856.0|                 0.0|               0.0|                 0.0|           1712|                1712|                   0|                 0|                   0|            822|                 822|                   0|                 0|                   0|             0.0|           965875.5|\n",
      "|    191350|          151.0|               151.0|                 0.0|               0.0|                 0.0|            151|                 151|                   0|                 0|                   0|            151|                 151|                   0|                 0|                   0|            null|          4137808.5|\n",
      "|    258865|          979.5|               979.5|                 0.0|               0.0|                 0.0|           1959|                1959|                   0|                 0|                   0|            198|                 198|                   0|                 0|                   0|            null|               null|\n",
      "|    439807|          795.2|                37.8|               757.4|               0.0|                 0.0|           3976|                 189|                3787|                 0|                   0|            189|                   0|                   0|                 0|                   0|        49721.91|             1666.8|\n",
      "|    258129|         434.75|               124.5|              310.25|               0.0|                 0.0|           1739|                 498|                1241|                 0|                   0|            212|                   0|                   0|                 0|                   0|             0.0|            87621.1|\n",
      "|    133018|        1261.64|               55.36|             1206.27|               0.0|                 0.0|          13878|                 609|               13269|                 0|                   0|            213|                   0|                   0|                 0|                   0|             0.0|           59496.19|\n",
      "|    338173|        1318.24|              205.94|             1112.29|               0.0|                 0.0|          22410|                3501|               18909|                 0|                   0|            301|                   0|                   0|                 0|                   0|             0.0|           23953.71|\n",
      "|    338091|         1022.0|                 0.0|              1022.0|               0.0|                 0.0|           1022|                   0|                1022|                 0|                   0|           1022|                   0|                1022|                 0|                   0|             0.0|                0.0|\n",
      "+----------+---------------+--------------------+--------------------+------------------+--------------------+---------------+--------------------+--------------------+------------------+--------------------+---------------+--------------------+--------------------+------------------+--------------------+----------------+-------------------+\n",
      "only showing top 20 rows\n",
      "\n"
     ]
    }
   ],
   "source": [
    "df_bureau_01.show()"
   ]
  },
  {
   "cell_type": "markdown",
   "metadata": {
    "id": "s-0FWxYDq6sx"
   },
   "source": [
    "- Podemos observar que com a criação destas variaveis o intuito sera de agregar valor e transformar para o mesmo nivel de granulidade da tabela original, esta bureau é a trasacional  \n",
    "\n",
    "- Conseguimos agregar algumas novas vars com a tabela bureau, para o mesmo nivel de granulidade da tabela principal, agora e so juntar elas"
   ]
  },
  {
   "cell_type": "markdown",
   "metadata": {
    "id": "KO9zPz_06BPn"
   },
   "source": [
    "# Compondo ABT\n",
    "tabela analítica de modelagem, para compor precisamos da tabela de público (tabela principal) e mais as variáveis explicativas e target (quando houver)."
   ]
  },
  {
   "cell_type": "code",
   "execution_count": null,
   "metadata": {
    "colab": {
     "base_uri": "https://localhost:8080/"
    },
    "id": "YrmvTC1F8zRc",
    "outputId": "7993f692-6d2e-4c8a-823e-26e8b81f8c2f"
   },
   "outputs": [
    {
     "data": {
      "text/plain": [
       "307511"
      ]
     },
     "execution_count": 48,
     "metadata": {},
     "output_type": "execute_result"
    }
   ],
   "source": [
    "abt_bureau = spark.sql(\"\"\"\n",
    "          Select \n",
    " \n",
    "            a.*,\n",
    "            b.AVG_DAYS_CREDIT,\n",
    "            b.AVG_CRED_ACTV_ACTIVE,\n",
    "            b.AVG_CRED_ACTV_CLOSED,\n",
    "            b.AVG_CRED_ACTV_SOLD,\n",
    "            b.AVG_CRED_ACTV_BADDBT,\n",
    "            b.SUM_DAYS_CREDIT,\n",
    "            b.SUM_CRED_ACTV_ACTIVE,\n",
    "            b.SUM_CRED_ACTV_CLOSED,\n",
    "            b.SUM_CRED_ACTV_SOLD,\n",
    "            b.SUM_CRED_ACTV_BADDBT,\n",
    "            \n",
    "            b.AVG_CREDIT_LIMIT,\n",
    "            b.SUM_AMT_CREDIT_DEBT\n",
    "\n",
    "          from app_train as a\n",
    "          left join \n",
    "          df_bureau_01 as b\n",
    "          on\n",
    "          a.SK_ID_CURR = b.SK_ID_CURR\n",
    " \"\"\")\n",
    " \n",
    "abt_bureau.registerTempTable('abt_bureau')\n",
    " \n",
    "abt_bureau.count()\n"
   ]
  },
  {
   "cell_type": "markdown",
   "metadata": {
    "id": "RV7DdzEc-uHe"
   },
   "source": [
    "Granulidade ok, tudo ajustado, variaveis criadas e agregadas a tabela principal"
   ]
  },
  {
   "cell_type": "markdown",
   "metadata": {
    "id": "4cBHagT7-27P"
   },
   "source": [
    "# Salvando a tabela gerada no diretorio das ABTs"
   ]
  },
  {
   "cell_type": "code",
   "execution_count": null,
   "metadata": {
    "id": "P_Xd_wGi6ryC"
   },
   "outputs": [],
   "source": [
    "abt_bureau.write.mode('overwrite').parquet(\"/content/drive/MyDrive/LAMIA/projeto_final/Arquitetura_Dados/ABT/VARS_BUREAU\")\n",
    "#Com o metodo parquet sao salvos diversos arquivos no diretorio novo que é o VARS_BUREAU, pique hdfs mesmo"
   ]
  },
  {
   "cell_type": "code",
   "execution_count": null,
   "metadata": {
    "colab": {
     "base_uri": "https://localhost:8080/"
    },
    "id": "5JnkXjns_Mqg",
    "outputId": "c75ee5d8-e065-4155-bd05-55d853e81238"
   },
   "outputs": [
    {
     "data": {
      "text/plain": [
       "307511"
      ]
     },
     "execution_count": 50,
     "metadata": {},
     "output_type": "execute_result"
    }
   ],
   "source": [
    "#Lendo com o metodo do spark fica bem bacana\n",
    "read_abt_bureau = spark.read.format(\"parquet\").load(\"/content/drive/MyDrive/LAMIA/projeto_final/Arquitetura_Dados/ABT/VARS_BUREAU\")\n",
    " \n",
    "read_abt_bureau.count()"
   ]
  },
  {
   "cell_type": "markdown",
   "metadata": {
    "id": "wlamgdctBVwA"
   },
   "source": [
    "# Transformando em um .csv"
   ]
  },
  {
   "cell_type": "code",
   "execution_count": null,
   "metadata": {
    "id": "iiDU7dcGBvSP"
   },
   "outputs": [],
   "source": [
    "import pandas as pd"
   ]
  },
  {
   "cell_type": "code",
   "execution_count": null,
   "metadata": {
    "id": "Oojb8D-mCTLP"
   },
   "outputs": [],
   "source": [
    "spark.conf.set(\"spark.sql.execution.arrow.pyspark.enabled\", \"true\")"
   ]
  },
  {
   "cell_type": "code",
   "execution_count": null,
   "metadata": {
    "id": "AV1DARe-_3cP"
   },
   "outputs": [],
   "source": [
    "dataframe = read_abt_bureau.select(\"*\").toPandas()"
   ]
  },
  {
   "cell_type": "code",
   "execution_count": null,
   "metadata": {
    "id": "RmHTcUZ8B_oR"
   },
   "outputs": [],
   "source": [
    "dataframe.to_csv('/content/drive/MyDrive/LAMIA/projeto_final/dados/ABT/Abt_Bureau.csv')"
   ]
  },
  {
   "cell_type": "code",
   "execution_count": null,
   "metadata": {
    "id": "BYRvYg1QCkUI"
   },
   "outputs": [],
   "source": [
    " "
   ]
  },
  {
   "cell_type": "code",
   "execution_count": null,
   "metadata": {
    "id": "IGY9n6NBccSH"
   },
   "outputs": [],
   "source": []
  }
 ],
 "metadata": {
  "colab": {
   "collapsed_sections": [],
   "provenance": []
  },
  "kernelspec": {
   "display_name": "Python 3 (ipykernel)",
   "language": "python",
   "name": "python3"
  },
  "language_info": {
   "codemirror_mode": {
    "name": "ipython",
    "version": 3
   },
   "file_extension": ".py",
   "mimetype": "text/x-python",
   "name": "python",
   "nbconvert_exporter": "python",
   "pygments_lexer": "ipython3",
   "version": "3.9.12"
  }
 },
 "nbformat": 4,
 "nbformat_minor": 1
}
